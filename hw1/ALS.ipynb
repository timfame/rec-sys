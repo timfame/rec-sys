{
 "cells": [
  {
   "cell_type": "code",
   "execution_count": 5,
   "metadata": {
    "collapsed": true
   },
   "outputs": [],
   "source": [
    "import pandas as pd\n",
    "import numpy as np\n",
    "import scipy.sparse as sp\n",
    "from math import sqrt"
   ]
  },
  {
   "cell_type": "code",
   "execution_count": 6,
   "outputs": [],
   "source": [
    "\n",
    "ratings = pd.read_csv('./ml-1m/ratings.dat', delimiter='::', header=None,\n",
    "                      names=['user_id', 'movie_id', 'rating', 'timestamp'],\n",
    "                      usecols=['user_id', 'movie_id', 'rating'], engine='python')\n",
    "movie_info = pd.read_csv('./ml-1m/movies.dat', delimiter='::', header=None,\n",
    "                         names=['movie_id', 'name', 'category'], engine='python')\n",
    "user_info = pd.read_csv('./ml-1m/users.dat', delimiter='::', header=None,\n",
    "                        names=['user_id', 'gender', 'age', 'occupation', 'zip_code'], engine='python')\n",
    "\n",
    "def get_movie_names(ids):\n",
    "    return [movie_info[movie_info['movie_id'] == mid]['name'].to_string() for mid in ids]\n",
    "\n",
    "get_user_history = lambda user_id: [movie_info[movie_info['movie_id'] == mid]['name'].to_string() + \"   \" + str(rat)\n",
    "                                    for mid, rat in zip(ratings[ratings['user_id'] == user_id]['movie_id'],\n",
    "                                                        ratings[ratings['user_id'] == user_id]['rating'])]"
   ],
   "metadata": {
    "collapsed": false,
    "pycharm": {
     "name": "#%%\n"
    }
   }
  },
  {
   "cell_type": "markdown",
   "source": [
    "сделаем implicit матрицу рейтингов"
   ],
   "metadata": {
    "collapsed": false,
    "pycharm": {
     "name": "#%% md\n"
    }
   }
  },
  {
   "cell_type": "code",
   "execution_count": 7,
   "outputs": [],
   "source": [
    "imp_ratings = ratings.loc[(ratings['rating'] >= 4)]\n",
    "imp_users = imp_ratings['user_id']\n",
    "imp_movies = imp_ratings['movie_id']\n",
    "imp_user_item = sp.coo_matrix((np.ones_like(imp_users), (imp_users, imp_movies)))\n",
    "imp_user_item_csr = imp_user_item.tocsr()"
   ],
   "metadata": {
    "collapsed": false,
    "pycharm": {
     "name": "#%%\n"
    }
   }
  },
  {
   "cell_type": "code",
   "execution_count": 8,
   "outputs": [],
   "source": [
    "class ALS:\n",
    "\n",
    "    def __init__(self, factors=10, epochs=10, alpha=10, lambda_val=0.01, logging=False):\n",
    "        self.factors = factors\n",
    "        self.epochs = epochs\n",
    "        self.alpha = alpha\n",
    "        self.lambda_val = lambda_val\n",
    "        self.logging = logging\n",
    "        self.x, self.y = np.empty((0, 0)), np.empty((0, 0))\n",
    "\n",
    "    def fit(self, raw_matrix):\n",
    "        # в ALS решил все индексировать с 0, а не с 1, как в датасете\n",
    "        matrix = raw_matrix[1:, 1:]\n",
    "        n, m = matrix.shape\n",
    "        fact = self.factors\n",
    "        self.x = np.random.uniform(0, 1 / sqrt(fact), (n, fact))\n",
    "        self.y = np.random.uniform(0, 1 / sqrt(fact), (m, fact))\n",
    "        i_factors, i_users, i_items = self.lambda_val * np.eye(fact), np.eye(n), np.eye(m)\n",
    "        for ep in range(self.epochs):\n",
    "            xtx = self.x.T @ self.x + i_factors\n",
    "            yty = self.y.T @ self.y + i_factors\n",
    "            for u in range(n):\n",
    "                user_imp = matrix[u].toarray()[0]\n",
    "                nonzero = user_imp.nonzero()\n",
    "                # ускоряем за счет того, что в матрице (С-I) из формулы много нулевых столбцов\n",
    "                A = yty + (self.y.T[:, nonzero] @ self.y[nonzero]).reshape((fact, fact)) * self.alpha\n",
    "                # ускоряем за счет того что в матрице C*p(u) из формулы много нулевых столбцов\n",
    "                b = (self.y.T[:, nonzero] @ user_imp.T[nonzero] * (self.alpha + 1))\n",
    "                # print(self.x[u].shape, np.linalg.solve(A, b).shape, np.linalg.solve(A, b).T.shape)\n",
    "                self.x[u] = np.linalg.solve(A, b).reshape(fact)\n",
    "            for i in range(m):\n",
    "                item_imp = matrix[:, i].T.toarray()[0]\n",
    "                nonzero = item_imp.nonzero()\n",
    "                A = xtx + (self.x.T[:, nonzero] @ self.x[nonzero]).reshape((fact, fact)) * self.alpha\n",
    "                b = (self.x.T[:, nonzero] @ item_imp.T[nonzero] * (self.alpha + 1))\n",
    "                self.y[i] = np.linalg.solve(A, b).reshape(fact)\n",
    "            if self.logging:\n",
    "                print(f'Epoch {ep + 1}: ', end='')\n",
    "                if ep % 2 == 0:\n",
    "                    print(f'RMSE = {self.rmse(raw_matrix)}', end='')\n",
    "                print()\n",
    "\n",
    "    def predict(self, i, j):\n",
    "        return self.x[i - 1] @ self.y[j - 1].T\n",
    "\n",
    "    def similar_item_ids(self, item_id, cnt=10):\n",
    "        item_embeddings = self.y[item_id - 1]\n",
    "        dists = [(np.linalg.norm(item_embeddings - self.y[i]), i + 1) for i in range(len(self.y))]\n",
    "        dists.sort()\n",
    "        return [x[1] for x in dists[1:cnt + 1]]\n",
    "\n",
    "    def recommend_ids(self, user_id, ratings, cnt=10):\n",
    "        used = [mid for _, mid in ratings[ratings['user_id'] == user_id]['movie_id'].items()]\n",
    "        predicts = [(self.predict(user_id, it), it) for it in range(1, len(self.y) + 1) if it not in used]\n",
    "        predicts.sort()\n",
    "        predicts.reverse()\n",
    "        return [x[1] for x in predicts[:cnt]]\n",
    "\n",
    "    def rmse(self, raw_matrix):\n",
    "        matrix = raw_matrix[1:, 1:]\n",
    "        n, m = matrix.shape\n",
    "        loss = 0\n",
    "        predicts = self.x @ self.y.T\n",
    "        for i in range(n):\n",
    "            # считается долго, поэтому убрал все обращение к sparse-матрице по индексам,\n",
    "            # учитывая все nonzero() индексы как 1, остальное - 0\n",
    "            nz = matrix[i].nonzero()[1]\n",
    "            if len(nz) == 0:\n",
    "                for j in range(m):\n",
    "                    loss += predicts[i][j] ** 2\n",
    "                continue\n",
    "            cur_nz = 0\n",
    "            for j in range(m):\n",
    "                if nz[cur_nz] == j:\n",
    "                    loss += (1 + self.alpha) * (predicts[i][j] - 1) ** 2\n",
    "                    cur_nz += 1\n",
    "                    if cur_nz >= len(nz):\n",
    "                        for k in range(j + 1, m):\n",
    "                            loss += predicts[i][k] ** 2\n",
    "                        break\n",
    "                    continue\n",
    "                loss += predicts[i][j] ** 2\n",
    "        return sqrt(loss / (n * m))\n"
   ],
   "metadata": {
    "collapsed": false,
    "pycharm": {
     "name": "#%%\n"
    }
   }
  },
  {
   "cell_type": "code",
   "execution_count": 9,
   "outputs": [
    {
     "name": "stdout",
     "output_type": "stream",
     "text": [
      "Epoch 1: RMSE = 1.0373820665746563\n",
      "Epoch 2: \n",
      "Epoch 3: RMSE = 0.6690536805104136\n",
      "Epoch 4: \n",
      "Epoch 5: RMSE = 0.4733873349346077\n",
      "Epoch 6: \n",
      "Epoch 7: RMSE = 0.38504333910114374\n",
      "Epoch 8: \n",
      "Epoch 9: RMSE = 0.3465262049164095\n",
      "Epoch 10: \n",
      "Epoch 11: RMSE = 0.3272746832341109\n",
      "Epoch 12: \n",
      "Epoch 13: RMSE = 0.3200705299324511\n",
      "Epoch 14: \n",
      "Epoch 15: RMSE = 0.31411919308894376\n"
     ]
    }
   ],
   "source": [
    "model = ALS(epochs=15, factors=64, alpha=40, logging=True)\n",
    "model.fit(imp_user_item_csr)"
   ],
   "metadata": {
    "collapsed": false,
    "pycharm": {
     "name": "#%%\n"
    }
   }
  },
  {
   "cell_type": "markdown",
   "source": [
    "симилары для Toy Story"
   ],
   "metadata": {
    "collapsed": false
   }
  },
  {
   "cell_type": "code",
   "execution_count": 10,
   "outputs": [
    {
     "name": "stdout",
     "output_type": "stream",
     "text": [
      "movie_id                              1\n",
      "name                   Toy Story (1995)\n",
      "category    Animation|Children's|Comedy\n",
      "Name: 0, dtype: object\n"
     ]
    },
    {
     "data": {
      "text/plain": "['1245    Groundhog Day (1993)',\n '3045    Toy Story 2 (1999)',\n '33    Babe (1995)',\n \"2286    Bug's Life, A (1998)\",\n '49    Usual Suspects, The (1995)',\n '2647    Ghostbusters (1984)',\n '352    Forrest Gump (1994)',\n '293    Pulp Fiction (1994)',\n '315    Shawshank Redemption, The (1994)',\n '2255    Life Is Beautiful (La Vita � bella) (1997)']"
     },
     "execution_count": 10,
     "metadata": {},
     "output_type": "execute_result"
    }
   ],
   "source": [
    "print(movie_info.loc[0])\n",
    "similar_ids = model.similar_item_ids(1)\n",
    "get_movie_names(similar_ids)"
   ],
   "metadata": {
    "collapsed": false,
    "pycharm": {
     "name": "#%%\n"
    }
   }
  },
  {
   "cell_type": "code",
   "execution_count": 11,
   "outputs": [
    {
     "data": {
      "text/plain": "['3399    Hustler, The (1961)   5',\n '1192    Star Wars: Episode VI - Return of the Jedi (1983)   3',\n '2882    Fistful of Dollars, A (1964)   4',\n '1196    Alien (1979)   4',\n '1023    Die Hard (1988)   4',\n '257    Star Wars: Episode IV - A New Hope (1977)   5',\n '1959    Saving Private Ryan (1998)   5',\n '476    Jurassic Park (1993)   4',\n '1178    Star Wars: Episode V - The Empire Strikes Back...   2',\n '1180    Raiders of the Lost Ark (1981)   5',\n '1885    Rocky (1976)   5',\n '1081    E.T. the Extra-Terrestrial (1982)   4',\n '3349    Thelma & Louise (1991)   4',\n '3633    Mad Max (1979)   4',\n '2297    King Kong (1933)   4',\n '1366    Jaws (1975)   5',\n '3458    Predator (1987)   1',\n '1183    Good, The Bad and The Ugly, The (1966)   5',\n '2623    Run Lola Run (Lola rennt) (1998)   5',\n '2878    Goldfinger (1964)   5',\n '1220    Terminator, The (1984)   5']"
     },
     "execution_count": 11,
     "metadata": {},
     "output_type": "execute_result"
    }
   ],
   "source": [
    "get_user_history(4)"
   ],
   "metadata": {
    "collapsed": false,
    "pycharm": {
     "name": "#%%\n"
    }
   }
  },
  {
   "cell_type": "markdown",
   "source": [
    "Рекомендации для юзера 4"
   ],
   "metadata": {
    "collapsed": false
   }
  },
  {
   "cell_type": "code",
   "execution_count": 12,
   "outputs": [
    {
     "data": {
      "text/plain": "['847    Godfather, The (1972)',\n '1182    Aliens (1986)',\n '1203    Godfather: Part II, The (1974)',\n '108    Braveheart (1995)',\n '585    or 2: Judgment Day (1991)',\n '2502    Matrix, The (1999)',\n '1204    Full Metal Jacket (1987)',\n '1267    Ben-Hur (1959)',\n '1271    Indiana Jones and the Last Crusade (1989)',\n '453    Fugitive, The (1993)',\n '3634    Mad Max 2 (a.k.a. The Road Warrior) (1981)',\n '1950    Seven Samurai (The Magnificent Seven) (Shichin...',\n '1179    Princess Bride, The (1987)',\n '1222    Glory (1989)',\n '2460    Planet of the Apes (1968)']"
     },
     "execution_count": 12,
     "metadata": {},
     "output_type": "execute_result"
    }
   ],
   "source": [
    "recommend_ids = model.recommend_ids(4, ratings, cnt=15)\n",
    "get_movie_names(recommend_ids)"
   ],
   "metadata": {
    "collapsed": false,
    "pycharm": {
     "name": "#%%\n"
    }
   }
  },
  {
   "cell_type": "markdown",
   "source": [
    "Выдало даже продолжение Mad Max\n"
   ],
   "metadata": {
    "collapsed": false
   }
  }
 ],
 "metadata": {
  "kernelspec": {
   "display_name": "Python 3",
   "language": "python",
   "name": "python3"
  },
  "language_info": {
   "codemirror_mode": {
    "name": "ipython",
    "version": 2
   },
   "file_extension": ".py",
   "mimetype": "text/x-python",
   "name": "python",
   "nbconvert_exporter": "python",
   "pygments_lexer": "ipython2",
   "version": "2.7.6"
  }
 },
 "nbformat": 4,
 "nbformat_minor": 0
}