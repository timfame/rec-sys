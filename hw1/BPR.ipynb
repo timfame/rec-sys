{
 "cells": [
  {
   "cell_type": "code",
   "execution_count": 4,
   "metadata": {
    "collapsed": true,
    "pycharm": {
     "name": "#%%\n"
    }
   },
   "outputs": [],
   "source": [
    "import pandas as pd\n",
    "import numpy as np\n",
    "import scipy.sparse as sp\n",
    "from math import sqrt, exp\n",
    "\n",
    "ratings = pd.read_csv('./ml-1m/ratings.dat', delimiter='::', header=None,\n",
    "                      names=['user_id', 'movie_id', 'rating', 'timestamp'],\n",
    "                      usecols=['user_id', 'movie_id', 'rating'], engine='python')\n",
    "movie_info = pd.read_csv('./ml-1m/movies.dat', delimiter='::', header=None,\n",
    "                         names=['movie_id', 'name', 'category'], engine='python')\n",
    "user_info = pd.read_csv('./ml-1m/users.dat', delimiter='::', header=None,\n",
    "                        names=['user_id', 'gender', 'age', 'occupation', 'zip_code'], engine='python')\n",
    "\n",
    "def get_movie_names(ids):\n",
    "    return [movie_info[movie_info['movie_id'] == mid]['name'].to_string() for mid in ids]\n",
    "\n",
    "get_user_history = lambda user_id: [movie_info[movie_info['movie_id'] == mid]['name'].to_string() + \"   \" + str(rat)\n",
    "                                    for mid, rat in zip(ratings[ratings['user_id'] == user_id]['movie_id'],\n",
    "                                                        ratings[ratings['user_id'] == user_id]['rating'])]\n",
    "\n",
    "imp_ratings = ratings.loc[(ratings['rating'] >= 4)]\n",
    "imp_users = imp_ratings['user_id']\n",
    "imp_movies = imp_ratings['movie_id']\n",
    "imp_user_item = sp.coo_matrix((np.ones_like(imp_users), (imp_users, imp_movies)))\n",
    "imp_user_item_csr = imp_user_item.tocsr()"
   ]
  },
  {
   "cell_type": "code",
   "execution_count": 5,
   "outputs": [],
   "source": [
    "from bisect import bisect_right\n",
    "\n",
    "class BPR:\n",
    "\n",
    "    def __init__(self, epochs=10, factors=16, regularization=0.02,\n",
    "                 learning_rate=0.005, logging=False):\n",
    "        self.epochs = epochs\n",
    "        self.factors = factors\n",
    "        self.reg = regularization\n",
    "        self.lr = learning_rate\n",
    "        self.logging = logging\n",
    "        self.users, self.items = np.array(0), np.array(0)\n",
    "\n",
    "    def fit(self, matrix):\n",
    "        n, m = matrix.shape\n",
    "        self.users = np.random.uniform(0, 1 / sqrt(self.factors), (n, self.factors))\n",
    "        self.items = np.random.uniform(0, 1 / sqrt(self.factors), (m, self.factors))\n",
    "        for ep in range(self.epochs):\n",
    "            # Проходимся по всем юзерам\n",
    "            for u in range(1, n):\n",
    "                positives = matrix[u].nonzero()[1]\n",
    "                # Проходимся по всем позитивам\n",
    "                for pos in positives:\n",
    "                    # Рандомим итем, пока попадаем в позитивы\n",
    "                    neg = np.random.randint(1, m)\n",
    "                    while neg in positives:\n",
    "                        neg = np.random.randint(1, m)\n",
    "\n",
    "                    x_uij = self.predict(u, pos) - self.predict(u, neg)\n",
    "                    e = exp(-x_uij) / (1 + exp(-x_uij))\n",
    "                    u_copy = self.users[u].copy()\n",
    "\n",
    "                    diff = self.items[pos] - self.items[neg]\n",
    "                    self.users[u] += self.lr * (e * diff + self.reg * self.users[u])\n",
    "\n",
    "                    diff = u_copy\n",
    "                    self.items[pos] += self.lr * (e * diff + self.reg * self.items[pos])\n",
    "\n",
    "                    diff = -u_copy\n",
    "                    self.items[neg] += self.lr * (e * diff + self.reg * self.items[neg])\n",
    "            if self.logging:\n",
    "                print(f'Epoch {ep + 1}: ', end='')\n",
    "                print(f'AUC = {self.auc(matrix)}')\n",
    "\n",
    "    def predict(self, i, j):\n",
    "        return self.users[i] @ self.items[j].T\n",
    "\n",
    "    def auc(self, matrix):\n",
    "        n, m = matrix.shape\n",
    "        auc = 0\n",
    "        for u in range(1, n):\n",
    "            positives = matrix[u].nonzero()[1]\n",
    "            predicts = [self.predict(u, i) for i in range(m)]\n",
    "            negative_predicts = [predicts[i] for i in range (1, m) if i not in positives]\n",
    "            user_auc = 0\n",
    "            if len(positives) == 0 or len(negative_predicts) == 0:\n",
    "                continue\n",
    "            negative_predicts.sort()\n",
    "            for pos in positives:\n",
    "                # Быстро подсчитываю кол-во негативов, у которых скор меньше текущего позитива\n",
    "                user_auc += bisect_right(negative_predicts, predicts[pos])\n",
    "                # Ниже закомменчена медленная версия, negatives - индексы негативов\n",
    "                # for neg in negatives:\n",
    "                #     x_uij = predicts[pos] - predicts[neg]\n",
    "                #     if x_uij > 0:\n",
    "                #         user_auc += 1\n",
    "            auc += user_auc / (len(positives) * len(negative_predicts))\n",
    "        return auc / (n - 1)\n",
    "\n",
    "    def similar_item_ids(self, item_id, cnt=10):\n",
    "        item_embeddings = self.items[item_id]\n",
    "        all_items = self.items[1:]\n",
    "        dists = [(np.linalg.norm(item_embeddings - all_items[i]), i + 1) for i in range(len(all_items))]\n",
    "        dists.sort()\n",
    "        return [x[1] for x in dists[1:cnt + 1]]\n",
    "\n",
    "    def recommend_ids(self, user_id, ratings, cnt=10):\n",
    "        used = [mid for _, mid in ratings[ratings['user_id'] == user_id]['movie_id'].items()]\n",
    "        predicts = [(self.predict(user_id, it), it) for it in range(1, len(self.items)) if it not in used]\n",
    "        predicts.sort()\n",
    "        predicts.reverse()\n",
    "        return [x[1] for x in predicts[:cnt]]"
   ],
   "metadata": {
    "collapsed": false,
    "pycharm": {
     "name": "#%%\n"
    }
   }
  },
  {
   "cell_type": "code",
   "execution_count": 6,
   "outputs": [
    {
     "name": "stdout",
     "output_type": "stream",
     "text": [
      "Epoch 1: AUC = 0.885487154989309\n",
      "Epoch 2: AUC = 0.889155911781217\n",
      "Epoch 3: AUC = 0.8900681839018211\n",
      "Epoch 4: AUC = 0.8903813115478301\n",
      "Epoch 5: AUC = 0.8905382257437138\n",
      "Epoch 6: AUC = 0.8906313148334517\n",
      "Epoch 7: AUC = 0.8907263128796129\n",
      "Epoch 8: AUC = 0.8907737228508505\n",
      "Epoch 9: AUC = 0.8908529516501202\n"
     ]
    }
   ],
   "source": [
    "model = BPR(epochs=9, factors=64, logging=True)\n",
    "model.fit(imp_user_item_csr)"
   ],
   "metadata": {
    "collapsed": false,
    "pycharm": {
     "name": "#%%\n"
    }
   }
  },
  {
   "cell_type": "markdown",
   "source": [
    "симилары для Toy Story"
   ],
   "metadata": {
    "collapsed": false,
    "pycharm": {
     "name": "#%% md\n"
    }
   }
  },
  {
   "cell_type": "code",
   "execution_count": 7,
   "outputs": [
    {
     "name": "stdout",
     "output_type": "stream",
     "text": [
      "movie_id                              1\n",
      "name                   Toy Story (1995)\n",
      "category    Animation|Children's|Comedy\n",
      "Name: 0, dtype: object\n"
     ]
    },
    {
     "data": {
      "text/plain": "['49    Usual Suspects, The (1995)',\n '1081    E.T. the Extra-Terrestrial (1982)',\n '1245    Groundhog Day (1993)',\n '1539    Men in Black (1997)',\n '352    Forrest Gump (1994)',\n '453    Fugitive, The (1993)',\n '1196    Alien (1979)',\n '2928    Being John Malkovich (1999)',\n '1220    Terminator, The (1984)',\n '476    Jurassic Park (1993)']"
     },
     "execution_count": 7,
     "metadata": {},
     "output_type": "execute_result"
    }
   ],
   "source": [
    "print(movie_info.loc[0])\n",
    "similar_ids = model.similar_item_ids(1)\n",
    "get_movie_names(similar_ids)"
   ],
   "metadata": {
    "collapsed": false,
    "pycharm": {
     "name": "#%%\n"
    }
   }
  },
  {
   "cell_type": "code",
   "execution_count": 8,
   "outputs": [
    {
     "data": {
      "text/plain": "['3399    Hustler, The (1961)   5',\n '1192    Star Wars: Episode VI - Return of the Jedi (1983)   3',\n '2882    Fistful of Dollars, A (1964)   4',\n '1196    Alien (1979)   4',\n '1023    Die Hard (1988)   4',\n '257    Star Wars: Episode IV - A New Hope (1977)   5',\n '1959    Saving Private Ryan (1998)   5',\n '476    Jurassic Park (1993)   4',\n '1178    Star Wars: Episode V - The Empire Strikes Back...   2',\n '1180    Raiders of the Lost Ark (1981)   5',\n '1885    Rocky (1976)   5',\n '1081    E.T. the Extra-Terrestrial (1982)   4',\n '3349    Thelma & Louise (1991)   4',\n '3633    Mad Max (1979)   4',\n '2297    King Kong (1933)   4',\n '1366    Jaws (1975)   5',\n '3458    Predator (1987)   1',\n '1183    Good, The Bad and The Ugly, The (1966)   5',\n '2623    Run Lola Run (Lola rennt) (1998)   5',\n '2878    Goldfinger (1964)   5',\n '1220    Terminator, The (1984)   5']"
     },
     "execution_count": 8,
     "metadata": {},
     "output_type": "execute_result"
    }
   ],
   "source": [
    "get_user_history(4)"
   ],
   "metadata": {
    "collapsed": false,
    "pycharm": {
     "name": "#%%\n"
    }
   }
  },
  {
   "cell_type": "markdown",
   "source": [
    "Рекомендации для юзера 4"
   ],
   "metadata": {
    "collapsed": false
   }
  },
  {
   "cell_type": "code",
   "execution_count": 9,
   "outputs": [
    {
     "data": {
      "text/plain": "['2789    American Beauty (1999)',\n '589    Silence of the Lambs, The (1991)',\n '2502    Matrix, The (1999)',\n '2693    Sixth Sense, The (1999)',\n '604    Fargo (1996)',\n \"523    Schindler's List (1993)\",\n '315    Shawshank Redemption, The (1994)',\n '585    or 2: Judgment Day (1991)',\n '847    Godfather, The (1972)',\n '108    Braveheart (1995)',\n '1179    Princess Bride, The (1987)',\n '1250    Back to the Future (1985)',\n '1575    L.A. Confidential (1997)',\n '2327    Shakespeare in Love (1998)',\n '293    Pulp Fiction (1994)']"
     },
     "execution_count": 9,
     "metadata": {},
     "output_type": "execute_result"
    }
   ],
   "source": [
    "recommend_ids = model.recommend_ids(4, ratings, cnt=15)\n",
    "get_movie_names(recommend_ids)\n"
   ],
   "metadata": {
    "collapsed": false,
    "pycharm": {
     "name": "#%%\n"
    }
   }
  }
 ],
 "metadata": {
  "kernelspec": {
   "display_name": "Python 3",
   "language": "python",
   "name": "python3"
  },
  "language_info": {
   "codemirror_mode": {
    "name": "ipython",
    "version": 2
   },
   "file_extension": ".py",
   "mimetype": "text/x-python",
   "name": "python",
   "nbconvert_exporter": "python",
   "pygments_lexer": "ipython2",
   "version": "2.7.6"
  }
 },
 "nbformat": 4,
 "nbformat_minor": 0
}