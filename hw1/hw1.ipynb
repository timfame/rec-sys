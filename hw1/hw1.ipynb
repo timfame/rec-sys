{
 "cells": [
  {
   "cell_type": "code",
   "execution_count": 3,
   "metadata": {
    "collapsed": true
   },
   "outputs": [],
   "source": [
    "import pandas as pd\n",
    "import numpy as np\n",
    "import scipy.sparse as sp"
   ]
  },
  {
   "cell_type": "code",
   "execution_count": 4,
   "outputs": [],
   "source": [
    "ratings = pd.read_csv('./ml-1m/ratings.dat', delimiter='::', header=None,\n",
    "                      names=['user_id', 'movie_id', 'rating', 'timestamp'],\n",
    "                      usecols=['user_id', 'movie_id', 'rating'], engine='python')\n",
    "movie_info = pd.read_csv('./ml-1m/movies.dat', delimiter='::', header=None,\n",
    "                         names=['movie_id', 'name', 'category'], engine='python')\n",
    "user_info = pd.read_csv('./ml-1m/users.dat', delimiter='::', header=None,\n",
    "                        names=['user_id', 'gender', 'age', 'occupation', 'zip_code'], engine='python')"
   ],
   "metadata": {
    "collapsed": false,
    "pycharm": {
     "name": "#%%\n"
    }
   }
  },
  {
   "cell_type": "code",
   "execution_count": 5,
   "outputs": [
    {
     "data": {
      "text/plain": "   user_id  movie_id  rating\n0        1      1193       5\n1        1       661       3\n2        1       914       3\n3        1      3408       4\n4        1      2355       5",
      "text/html": "<div>\n<style scoped>\n    .dataframe tbody tr th:only-of-type {\n        vertical-align: middle;\n    }\n\n    .dataframe tbody tr th {\n        vertical-align: top;\n    }\n\n    .dataframe thead th {\n        text-align: right;\n    }\n</style>\n<table border=\"1\" class=\"dataframe\">\n  <thead>\n    <tr style=\"text-align: right;\">\n      <th></th>\n      <th>user_id</th>\n      <th>movie_id</th>\n      <th>rating</th>\n    </tr>\n  </thead>\n  <tbody>\n    <tr>\n      <th>0</th>\n      <td>1</td>\n      <td>1193</td>\n      <td>5</td>\n    </tr>\n    <tr>\n      <th>1</th>\n      <td>1</td>\n      <td>661</td>\n      <td>3</td>\n    </tr>\n    <tr>\n      <th>2</th>\n      <td>1</td>\n      <td>914</td>\n      <td>3</td>\n    </tr>\n    <tr>\n      <th>3</th>\n      <td>1</td>\n      <td>3408</td>\n      <td>4</td>\n    </tr>\n    <tr>\n      <th>4</th>\n      <td>1</td>\n      <td>2355</td>\n      <td>5</td>\n    </tr>\n  </tbody>\n</table>\n</div>"
     },
     "execution_count": 5,
     "metadata": {},
     "output_type": "execute_result"
    }
   ],
   "source": [
    "ratings.head(5)"
   ],
   "metadata": {
    "collapsed": false,
    "pycharm": {
     "name": "#%%\n"
    }
   }
  },
  {
   "cell_type": "code",
   "execution_count": 6,
   "outputs": [],
   "source": [
    "from math import sqrt\n",
    "\n",
    "class SGD:\n",
    "\n",
    "    def __init__(self, factors=64, epochs=10,\n",
    "                 regularization=0.02, learning_rate=0.005,\n",
    "                 logging=False):\n",
    "        self.epochs = epochs\n",
    "        self.factors = factors\n",
    "        self.regularization = regularization\n",
    "        self.learning_rate = learning_rate\n",
    "        self.users, self.bu = np.empty(0), np.empty(0)\n",
    "        self.items, self.bi = np.empty(0), np.empty(0)\n",
    "        self.mu = 0\n",
    "        self.logging = logging\n",
    "        self.rmse = None\n",
    "\n",
    "    def fit(self, matrix):\n",
    "        n, m = matrix.shape\n",
    "        self.users = np.random.uniform(0, 1 / sqrt(self.factors), (n, self.factors))\n",
    "        self.items = np.random.uniform(0, 1 / sqrt(self.factors), (m, self.factors))\n",
    "        self.bu = np.zeros(n)\n",
    "        self.bi = np.zeros(m)\n",
    "        self.mu = matrix.data.mean()\n",
    "\n",
    "        indices = matrix.nonzero()\n",
    "        order = [o for o in range(len(indices[0]))]\n",
    "\n",
    "        for ep in range(self.epochs):\n",
    "            np.random.shuffle(order)\n",
    "            errors = []\n",
    "            for o in order:\n",
    "                i, j = indices[0][o], indices[1][o]\n",
    "                error = self.predict(i, j) - matrix[i, j]\n",
    "                self.bu[i] -= (error + self.regularization * self.bu[i]) * self.learning_rate\n",
    "                self.bi[j] -= (error + self.regularization * self.bi[j]) * self.learning_rate\n",
    "                self.users[i] -= (error * self.items[j] + self.regularization * self.users[i]) * self.learning_rate\n",
    "                self.items[j] -= (error * self.users[i] + self.regularization * self.items[j]) * self.learning_rate\n",
    "                errors.append(self.predict(i, j) - matrix[i, j])\n",
    "            errors = np.array(errors)\n",
    "            loss = np.square(errors).mean()\n",
    "            self.rmse = sqrt(loss)\n",
    "            if self.logging:\n",
    "                print(f'Epoch {ep + 1}: RMSE = {self.rmse}')\n",
    "\n",
    "    def predict(self, i, j):\n",
    "        return self.users[i] @ self.items[j] + self.bu[i] + self.bi[j] + self.mu\n",
    "\n",
    "    def similar_item_ids(self, item_id, cnt=10):\n",
    "        item_embeddings = self.items[item_id]\n",
    "        all_items = self.items[1:]\n",
    "        dists = [(np.linalg.norm(item_embeddings - all_items[i]), i + 1) for i in range(len(all_items))]\n",
    "        dists.sort()\n",
    "        return [x[1] for x in dists[1:cnt + 1]]\n",
    "\n",
    "    def recommend_ids(self, user_id, matrix, cnt=10):\n",
    "        used = matrix.indices[matrix.indptr[user_id]:matrix.indptr[user_id + 1]]\n",
    "        predicts = [self.predict(user_id, it) for it in range(1, len(self.items)) if it not in used]\n",
    "        predicts.sort()\n",
    "        predicts.reverse()\n",
    "        return [x[1] for x in predicts[:cnt]]"
   ],
   "metadata": {
    "collapsed": false,
    "pycharm": {
     "name": "#%%\n"
    }
   }
  },
  {
   "cell_type": "code",
   "execution_count": 7,
   "outputs": [],
   "source": [
    "exp_user_item = sp.coo_matrix((ratings['rating'], (ratings['user_id'], ratings['movie_id'])))\n",
    "exp_user_item_csr = exp_user_item.tocsr()"
   ],
   "metadata": {
    "collapsed": false,
    "pycharm": {
     "name": "#%%\n"
    }
   }
  },
  {
   "cell_type": "code",
   "execution_count": 22,
   "outputs": [
    {
     "ename": "KeyboardInterrupt",
     "evalue": "",
     "output_type": "error",
     "traceback": [
      "\u001B[1;31m---------------------------------------------------------------------------\u001B[0m",
      "\u001B[1;31mKeyboardInterrupt\u001B[0m                         Traceback (most recent call last)",
      "\u001B[1;32m<ipython-input-22-f1234c324846>\u001B[0m in \u001B[0;36m<module>\u001B[1;34m\u001B[0m\n\u001B[0;32m      1\u001B[0m \u001B[0mmodel\u001B[0m \u001B[1;33m=\u001B[0m \u001B[0mSGD\u001B[0m\u001B[1;33m(\u001B[0m\u001B[0mepochs\u001B[0m\u001B[1;33m=\u001B[0m\u001B[1;36m20\u001B[0m\u001B[1;33m,\u001B[0m \u001B[0mlogging\u001B[0m\u001B[1;33m=\u001B[0m\u001B[1;32mTrue\u001B[0m\u001B[1;33m)\u001B[0m\u001B[1;33m\u001B[0m\u001B[1;33m\u001B[0m\u001B[0m\n\u001B[1;32m----> 2\u001B[1;33m \u001B[0mmodel\u001B[0m\u001B[1;33m.\u001B[0m\u001B[0mfit\u001B[0m\u001B[1;33m(\u001B[0m\u001B[0mexp_user_item_csr\u001B[0m\u001B[1;33m)\u001B[0m\u001B[1;33m\u001B[0m\u001B[1;33m\u001B[0m\u001B[0m\n\u001B[0m\u001B[0;32m      3\u001B[0m \u001B[1;33m\u001B[0m\u001B[0m\n",
      "\u001B[1;32m<ipython-input-6-e5aadd22c4a8>\u001B[0m in \u001B[0;36mfit\u001B[1;34m(self, matrix)\u001B[0m\n\u001B[0;32m     32\u001B[0m             \u001B[1;32mfor\u001B[0m \u001B[0mo\u001B[0m \u001B[1;32min\u001B[0m \u001B[0morder\u001B[0m\u001B[1;33m:\u001B[0m\u001B[1;33m\u001B[0m\u001B[1;33m\u001B[0m\u001B[0m\n\u001B[0;32m     33\u001B[0m                 \u001B[0mi\u001B[0m\u001B[1;33m,\u001B[0m \u001B[0mj\u001B[0m \u001B[1;33m=\u001B[0m \u001B[0mindices\u001B[0m\u001B[1;33m[\u001B[0m\u001B[1;36m0\u001B[0m\u001B[1;33m]\u001B[0m\u001B[1;33m[\u001B[0m\u001B[0mo\u001B[0m\u001B[1;33m]\u001B[0m\u001B[1;33m,\u001B[0m \u001B[0mindices\u001B[0m\u001B[1;33m[\u001B[0m\u001B[1;36m1\u001B[0m\u001B[1;33m]\u001B[0m\u001B[1;33m[\u001B[0m\u001B[0mo\u001B[0m\u001B[1;33m]\u001B[0m\u001B[1;33m\u001B[0m\u001B[1;33m\u001B[0m\u001B[0m\n\u001B[1;32m---> 34\u001B[1;33m                 \u001B[0merror\u001B[0m \u001B[1;33m=\u001B[0m \u001B[0mself\u001B[0m\u001B[1;33m.\u001B[0m\u001B[0mpredict\u001B[0m\u001B[1;33m(\u001B[0m\u001B[0mi\u001B[0m\u001B[1;33m,\u001B[0m \u001B[0mj\u001B[0m\u001B[1;33m)\u001B[0m \u001B[1;33m-\u001B[0m \u001B[0mmatrix\u001B[0m\u001B[1;33m[\u001B[0m\u001B[0mi\u001B[0m\u001B[1;33m,\u001B[0m \u001B[0mj\u001B[0m\u001B[1;33m]\u001B[0m\u001B[1;33m\u001B[0m\u001B[1;33m\u001B[0m\u001B[0m\n\u001B[0m\u001B[0;32m     35\u001B[0m                 \u001B[0mself\u001B[0m\u001B[1;33m.\u001B[0m\u001B[0mbu\u001B[0m\u001B[1;33m[\u001B[0m\u001B[0mi\u001B[0m\u001B[1;33m]\u001B[0m \u001B[1;33m-=\u001B[0m \u001B[1;33m(\u001B[0m\u001B[0merror\u001B[0m \u001B[1;33m+\u001B[0m \u001B[0mself\u001B[0m\u001B[1;33m.\u001B[0m\u001B[0mregularization\u001B[0m \u001B[1;33m*\u001B[0m \u001B[0mself\u001B[0m\u001B[1;33m.\u001B[0m\u001B[0mbu\u001B[0m\u001B[1;33m[\u001B[0m\u001B[0mi\u001B[0m\u001B[1;33m]\u001B[0m\u001B[1;33m)\u001B[0m \u001B[1;33m*\u001B[0m \u001B[0mself\u001B[0m\u001B[1;33m.\u001B[0m\u001B[0mlearning_rate\u001B[0m\u001B[1;33m\u001B[0m\u001B[1;33m\u001B[0m\u001B[0m\n\u001B[0;32m     36\u001B[0m                 \u001B[0mself\u001B[0m\u001B[1;33m.\u001B[0m\u001B[0mbi\u001B[0m\u001B[1;33m[\u001B[0m\u001B[0mj\u001B[0m\u001B[1;33m]\u001B[0m \u001B[1;33m-=\u001B[0m \u001B[1;33m(\u001B[0m\u001B[0merror\u001B[0m \u001B[1;33m+\u001B[0m \u001B[0mself\u001B[0m\u001B[1;33m.\u001B[0m\u001B[0mregularization\u001B[0m \u001B[1;33m*\u001B[0m \u001B[0mself\u001B[0m\u001B[1;33m.\u001B[0m\u001B[0mbi\u001B[0m\u001B[1;33m[\u001B[0m\u001B[0mj\u001B[0m\u001B[1;33m]\u001B[0m\u001B[1;33m)\u001B[0m \u001B[1;33m*\u001B[0m \u001B[0mself\u001B[0m\u001B[1;33m.\u001B[0m\u001B[0mlearning_rate\u001B[0m\u001B[1;33m\u001B[0m\u001B[1;33m\u001B[0m\u001B[0m\n",
      "\u001B[1;32mc:\\users\\asus\\university\\term06\\recsys\\venv\\lib\\site-packages\\scipy\\sparse\\_index.py\u001B[0m in \u001B[0;36m__getitem__\u001B[1;34m(self, key)\u001B[0m\n\u001B[0;32m     35\u001B[0m         \u001B[1;32mif\u001B[0m \u001B[0misinstance\u001B[0m\u001B[1;33m(\u001B[0m\u001B[0mrow\u001B[0m\u001B[1;33m,\u001B[0m \u001B[0mINT_TYPES\u001B[0m\u001B[1;33m)\u001B[0m\u001B[1;33m:\u001B[0m\u001B[1;33m\u001B[0m\u001B[1;33m\u001B[0m\u001B[0m\n\u001B[0;32m     36\u001B[0m             \u001B[1;32mif\u001B[0m \u001B[0misinstance\u001B[0m\u001B[1;33m(\u001B[0m\u001B[0mcol\u001B[0m\u001B[1;33m,\u001B[0m \u001B[0mINT_TYPES\u001B[0m\u001B[1;33m)\u001B[0m\u001B[1;33m:\u001B[0m\u001B[1;33m\u001B[0m\u001B[1;33m\u001B[0m\u001B[0m\n\u001B[1;32m---> 37\u001B[1;33m                 \u001B[1;32mreturn\u001B[0m \u001B[0mself\u001B[0m\u001B[1;33m.\u001B[0m\u001B[0m_get_intXint\u001B[0m\u001B[1;33m(\u001B[0m\u001B[0mrow\u001B[0m\u001B[1;33m,\u001B[0m \u001B[0mcol\u001B[0m\u001B[1;33m)\u001B[0m\u001B[1;33m\u001B[0m\u001B[1;33m\u001B[0m\u001B[0m\n\u001B[0m\u001B[0;32m     38\u001B[0m             \u001B[1;32melif\u001B[0m \u001B[0misinstance\u001B[0m\u001B[1;33m(\u001B[0m\u001B[0mcol\u001B[0m\u001B[1;33m,\u001B[0m \u001B[0mslice\u001B[0m\u001B[1;33m)\u001B[0m\u001B[1;33m:\u001B[0m\u001B[1;33m\u001B[0m\u001B[1;33m\u001B[0m\u001B[0m\n\u001B[0;32m     39\u001B[0m                 \u001B[1;32mreturn\u001B[0m \u001B[0mself\u001B[0m\u001B[1;33m.\u001B[0m\u001B[0m_get_intXslice\u001B[0m\u001B[1;33m(\u001B[0m\u001B[0mrow\u001B[0m\u001B[1;33m,\u001B[0m \u001B[0mcol\u001B[0m\u001B[1;33m)\u001B[0m\u001B[1;33m\u001B[0m\u001B[1;33m\u001B[0m\u001B[0m\n",
      "\u001B[1;32mc:\\users\\asus\\university\\term06\\recsys\\venv\\lib\\site-packages\\scipy\\sparse\\compressed.py\u001B[0m in \u001B[0;36m_get_intXint\u001B[1;34m(self, row, col)\u001B[0m\n\u001B[0;32m    644\u001B[0m         \u001B[0mM\u001B[0m\u001B[1;33m,\u001B[0m \u001B[0mN\u001B[0m \u001B[1;33m=\u001B[0m \u001B[0mself\u001B[0m\u001B[1;33m.\u001B[0m\u001B[0m_swap\u001B[0m\u001B[1;33m(\u001B[0m\u001B[0mself\u001B[0m\u001B[1;33m.\u001B[0m\u001B[0mshape\u001B[0m\u001B[1;33m)\u001B[0m\u001B[1;33m\u001B[0m\u001B[1;33m\u001B[0m\u001B[0m\n\u001B[0;32m    645\u001B[0m         \u001B[0mmajor\u001B[0m\u001B[1;33m,\u001B[0m \u001B[0mminor\u001B[0m \u001B[1;33m=\u001B[0m \u001B[0mself\u001B[0m\u001B[1;33m.\u001B[0m\u001B[0m_swap\u001B[0m\u001B[1;33m(\u001B[0m\u001B[1;33m(\u001B[0m\u001B[0mrow\u001B[0m\u001B[1;33m,\u001B[0m \u001B[0mcol\u001B[0m\u001B[1;33m)\u001B[0m\u001B[1;33m)\u001B[0m\u001B[1;33m\u001B[0m\u001B[1;33m\u001B[0m\u001B[0m\n\u001B[1;32m--> 646\u001B[1;33m         indptr, indices, data = get_csr_submatrix(\n\u001B[0m\u001B[0;32m    647\u001B[0m             \u001B[0mM\u001B[0m\u001B[1;33m,\u001B[0m \u001B[0mN\u001B[0m\u001B[1;33m,\u001B[0m \u001B[0mself\u001B[0m\u001B[1;33m.\u001B[0m\u001B[0mindptr\u001B[0m\u001B[1;33m,\u001B[0m \u001B[0mself\u001B[0m\u001B[1;33m.\u001B[0m\u001B[0mindices\u001B[0m\u001B[1;33m,\u001B[0m \u001B[0mself\u001B[0m\u001B[1;33m.\u001B[0m\u001B[0mdata\u001B[0m\u001B[1;33m,\u001B[0m\u001B[1;33m\u001B[0m\u001B[1;33m\u001B[0m\u001B[0m\n\u001B[0;32m    648\u001B[0m             major, major + 1, minor, minor + 1)\n",
      "\u001B[1;31mKeyboardInterrupt\u001B[0m: "
     ]
    }
   ],
   "source": [
    "model = SGD(epochs=20, logging=True)\n",
    "model.fit(exp_user_item_csr)"
   ],
   "metadata": {
    "collapsed": false,
    "pycharm": {
     "name": "#%%\n"
    }
   }
  },
  {
   "cell_type": "markdown",
   "source": [
    "найдем симилары"
   ],
   "metadata": {
    "collapsed": false
   }
  },
  {
   "cell_type": "code",
   "execution_count": 21,
   "outputs": [
    {
     "name": "stdout",
     "output_type": "stream",
     "text": [
      "movie_id                              1\n",
      "name                   Toy Story (1995)\n",
      "category    Animation|Children's|Comedy\n",
      "Name: 0, dtype: object\n"
     ]
    },
    {
     "ename": "NameError",
     "evalue": "name 'model' is not defined",
     "output_type": "error",
     "traceback": [
      "\u001B[1;31m---------------------------------------------------------------------------\u001B[0m",
      "\u001B[1;31mNameError\u001B[0m                                 Traceback (most recent call last)",
      "\u001B[1;32m<ipython-input-21-3d6d01701a3b>\u001B[0m in \u001B[0;36m<module>\u001B[1;34m\u001B[0m\n\u001B[0;32m      7\u001B[0m \u001B[1;33m\u001B[0m\u001B[0m\n\u001B[0;32m      8\u001B[0m \u001B[0mprint\u001B[0m\u001B[1;33m(\u001B[0m\u001B[0mmovie_info\u001B[0m\u001B[1;33m.\u001B[0m\u001B[0mloc\u001B[0m\u001B[1;33m[\u001B[0m\u001B[1;36m0\u001B[0m\u001B[1;33m]\u001B[0m\u001B[1;33m)\u001B[0m\u001B[1;33m\u001B[0m\u001B[1;33m\u001B[0m\u001B[0m\n\u001B[1;32m----> 9\u001B[1;33m \u001B[0mget_similar_movies\u001B[0m\u001B[1;33m(\u001B[0m\u001B[0mmodel\u001B[0m\u001B[1;33m,\u001B[0m \u001B[1;36m1\u001B[0m\u001B[1;33m)\u001B[0m\u001B[1;33m\u001B[0m\u001B[1;33m\u001B[0m\u001B[0m\n\u001B[0m\u001B[0;32m     10\u001B[0m \u001B[1;33m\u001B[0m\u001B[0m\n",
      "\u001B[1;31mNameError\u001B[0m: name 'model' is not defined"
     ]
    }
   ],
   "source": [
    "def get_movie_names(ids):\n",
    "    return [movie_info[movie_info['movie_id'] == mid]['name'].to_string() for mid in ids]\n",
    "\n",
    "def get_similar_movies(_model, item_id):\n",
    "    similar_ids = model.similar_item_ids(item_id)\n",
    "    return get_movie_names(similar_ids)"
   ],
   "metadata": {
    "collapsed": false,
    "pycharm": {
     "name": "#%%\n"
    }
   }
  },
  {
   "cell_type": "markdown",
   "source": [
    "симилары для Toy Story"
   ],
   "metadata": {
    "collapsed": false,
    "pycharm": {
     "name": "#%% md\n"
    }
   }
  },
  {
   "cell_type": "code",
   "execution_count": null,
   "outputs": [],
   "source": [
    "print(movie_info.loc[0])\n",
    "get_similar_movies(model, 1)"
   ],
   "metadata": {
    "collapsed": false,
    "pycharm": {
     "name": "#%%\n"
    }
   }
  },
  {
   "cell_type": "markdown",
   "source": [
    "Рейтинги фильмов от юзера 4"
   ],
   "metadata": {
    "collapsed": false,
    "pycharm": {
     "name": "#%% md\n"
    }
   }
  },
  {
   "cell_type": "code",
   "execution_count": 26,
   "outputs": [
    {
     "data": {
      "text/plain": "['3399    Hustler, The (1961)   5',\n '1192    Star Wars: Episode VI - Return of the Jedi (1983)   3',\n '2882    Fistful of Dollars, A (1964)   4',\n '1196    Alien (1979)   4',\n '1023    Die Hard (1988)   4',\n '257    Star Wars: Episode IV - A New Hope (1977)   5',\n '1959    Saving Private Ryan (1998)   5',\n '476    Jurassic Park (1993)   4',\n '1178    Star Wars: Episode V - The Empire Strikes Back...   2',\n '1180    Raiders of the Lost Ark (1981)   5',\n '1885    Rocky (1976)   5',\n '1081    E.T. the Extra-Terrestrial (1982)   4',\n '3349    Thelma & Louise (1991)   4',\n '3633    Mad Max (1979)   4',\n '2297    King Kong (1933)   4',\n '1366    Jaws (1975)   5',\n '3458    Predator (1987)   1',\n '1183    Good, The Bad and The Ugly, The (1966)   5',\n '2623    Run Lola Run (Lola rennt) (1998)   5',\n '2878    Goldfinger (1964)   5',\n '1220    Terminator, The (1984)   5']"
     },
     "execution_count": 26,
     "metadata": {},
     "output_type": "execute_result"
    }
   ],
   "source": [
    "get_user_history = lambda user_id: [movie_info[movie_info['movie_id'] == mid]['name'].to_string() + \"   \" + str(rat)\n",
    "                                    for mid, rat in zip(ratings[ratings['user_id'] == user_id]['movie_id'],\n",
    "                                                        ratings[ratings['user_id'] == user_id]['rating'])]\n",
    "get_user_history(4)"
   ],
   "metadata": {
    "collapsed": false,
    "pycharm": {
     "name": "#%%\n"
    }
   }
  },
  {
   "cell_type": "markdown",
   "source": [
    "Получим рекомендации для юзера 4"
   ],
   "metadata": {
    "collapsed": false,
    "pycharm": {
     "name": "#%% md\n"
    }
   }
  },
  {
   "cell_type": "code",
   "execution_count": 27,
   "outputs": [
    {
     "ename": "IndexError",
     "evalue": "invalid index to scalar variable.",
     "output_type": "error",
     "traceback": [
      "\u001B[1;31m---------------------------------------------------------------------------\u001B[0m",
      "\u001B[1;31mIndexError\u001B[0m                                Traceback (most recent call last)",
      "\u001B[1;32m<ipython-input-27-b322950bdc3d>\u001B[0m in \u001B[0;36m<module>\u001B[1;34m\u001B[0m\n\u001B[0;32m      3\u001B[0m     \u001B[1;32mreturn\u001B[0m \u001B[0mget_movie_names\u001B[0m\u001B[1;33m(\u001B[0m\u001B[0mrecommend_ids\u001B[0m\u001B[1;33m)\u001B[0m\u001B[1;33m\u001B[0m\u001B[1;33m\u001B[0m\u001B[0m\n\u001B[0;32m      4\u001B[0m \u001B[1;33m\u001B[0m\u001B[0m\n\u001B[1;32m----> 5\u001B[1;33m \u001B[0mget_recommends\u001B[0m\u001B[1;33m(\u001B[0m\u001B[0mmodel\u001B[0m\u001B[1;33m,\u001B[0m \u001B[1;36m4\u001B[0m\u001B[1;33m,\u001B[0m \u001B[0mexp_user_item_csr\u001B[0m\u001B[1;33m)\u001B[0m\u001B[1;33m\u001B[0m\u001B[1;33m\u001B[0m\u001B[0m\n\u001B[0m\u001B[0;32m      6\u001B[0m \u001B[1;33m\u001B[0m\u001B[0m\n",
      "\u001B[1;32m<ipython-input-27-b322950bdc3d>\u001B[0m in \u001B[0;36mget_recommends\u001B[1;34m(_model, user_id, matrix)\u001B[0m\n\u001B[0;32m      1\u001B[0m \u001B[1;32mdef\u001B[0m \u001B[0mget_recommends\u001B[0m\u001B[1;33m(\u001B[0m\u001B[0m_model\u001B[0m\u001B[1;33m,\u001B[0m \u001B[0muser_id\u001B[0m\u001B[1;33m,\u001B[0m \u001B[0mmatrix\u001B[0m\u001B[1;33m)\u001B[0m\u001B[1;33m:\u001B[0m\u001B[1;33m\u001B[0m\u001B[1;33m\u001B[0m\u001B[0m\n\u001B[1;32m----> 2\u001B[1;33m     \u001B[0mrecommend_ids\u001B[0m \u001B[1;33m=\u001B[0m \u001B[0m_model\u001B[0m\u001B[1;33m.\u001B[0m\u001B[0mrecommend_ids\u001B[0m\u001B[1;33m(\u001B[0m\u001B[0muser_id\u001B[0m\u001B[1;33m,\u001B[0m \u001B[0mmatrix\u001B[0m\u001B[1;33m)\u001B[0m\u001B[1;33m\u001B[0m\u001B[1;33m\u001B[0m\u001B[0m\n\u001B[0m\u001B[0;32m      3\u001B[0m     \u001B[1;32mreturn\u001B[0m \u001B[0mget_movie_names\u001B[0m\u001B[1;33m(\u001B[0m\u001B[0mrecommend_ids\u001B[0m\u001B[1;33m)\u001B[0m\u001B[1;33m\u001B[0m\u001B[1;33m\u001B[0m\u001B[0m\n\u001B[0;32m      4\u001B[0m \u001B[1;33m\u001B[0m\u001B[0m\n\u001B[0;32m      5\u001B[0m \u001B[0mget_recommends\u001B[0m\u001B[1;33m(\u001B[0m\u001B[0mmodel\u001B[0m\u001B[1;33m,\u001B[0m \u001B[1;36m4\u001B[0m\u001B[1;33m,\u001B[0m \u001B[0mexp_user_item_csr\u001B[0m\u001B[1;33m)\u001B[0m\u001B[1;33m\u001B[0m\u001B[1;33m\u001B[0m\u001B[0m\n",
      "\u001B[1;32m<ipython-input-6-e5aadd22c4a8>\u001B[0m in \u001B[0;36mrecommend_ids\u001B[1;34m(self, user_id, matrix, cnt)\u001B[0m\n\u001B[0;32m     59\u001B[0m         \u001B[0mpredicts\u001B[0m\u001B[1;33m.\u001B[0m\u001B[0msort\u001B[0m\u001B[1;33m(\u001B[0m\u001B[1;33m)\u001B[0m\u001B[1;33m\u001B[0m\u001B[1;33m\u001B[0m\u001B[0m\n\u001B[0;32m     60\u001B[0m         \u001B[0mpredicts\u001B[0m\u001B[1;33m.\u001B[0m\u001B[0mreverse\u001B[0m\u001B[1;33m(\u001B[0m\u001B[1;33m)\u001B[0m\u001B[1;33m\u001B[0m\u001B[1;33m\u001B[0m\u001B[0m\n\u001B[1;32m---> 61\u001B[1;33m         \u001B[1;32mreturn\u001B[0m \u001B[1;33m[\u001B[0m\u001B[0mx\u001B[0m\u001B[1;33m[\u001B[0m\u001B[1;36m1\u001B[0m\u001B[1;33m]\u001B[0m \u001B[1;32mfor\u001B[0m \u001B[0mx\u001B[0m \u001B[1;32min\u001B[0m \u001B[0mpredicts\u001B[0m\u001B[1;33m[\u001B[0m\u001B[1;33m:\u001B[0m\u001B[0mcnt\u001B[0m\u001B[1;33m]\u001B[0m\u001B[1;33m]\u001B[0m\u001B[1;33m\u001B[0m\u001B[1;33m\u001B[0m\u001B[0m\n\u001B[0m\u001B[0;32m     62\u001B[0m \u001B[1;33m\u001B[0m\u001B[0m\n",
      "\u001B[1;32m<ipython-input-6-e5aadd22c4a8>\u001B[0m in \u001B[0;36m<listcomp>\u001B[1;34m(.0)\u001B[0m\n\u001B[0;32m     59\u001B[0m         \u001B[0mpredicts\u001B[0m\u001B[1;33m.\u001B[0m\u001B[0msort\u001B[0m\u001B[1;33m(\u001B[0m\u001B[1;33m)\u001B[0m\u001B[1;33m\u001B[0m\u001B[1;33m\u001B[0m\u001B[0m\n\u001B[0;32m     60\u001B[0m         \u001B[0mpredicts\u001B[0m\u001B[1;33m.\u001B[0m\u001B[0mreverse\u001B[0m\u001B[1;33m(\u001B[0m\u001B[1;33m)\u001B[0m\u001B[1;33m\u001B[0m\u001B[1;33m\u001B[0m\u001B[0m\n\u001B[1;32m---> 61\u001B[1;33m         \u001B[1;32mreturn\u001B[0m \u001B[1;33m[\u001B[0m\u001B[0mx\u001B[0m\u001B[1;33m[\u001B[0m\u001B[1;36m1\u001B[0m\u001B[1;33m]\u001B[0m \u001B[1;32mfor\u001B[0m \u001B[0mx\u001B[0m \u001B[1;32min\u001B[0m \u001B[0mpredicts\u001B[0m\u001B[1;33m[\u001B[0m\u001B[1;33m:\u001B[0m\u001B[0mcnt\u001B[0m\u001B[1;33m]\u001B[0m\u001B[1;33m]\u001B[0m\u001B[1;33m\u001B[0m\u001B[1;33m\u001B[0m\u001B[0m\n\u001B[0m\u001B[0;32m     62\u001B[0m \u001B[1;33m\u001B[0m\u001B[0m\n",
      "\u001B[1;31mIndexError\u001B[0m: invalid index to scalar variable."
     ]
    }
   ],
   "source": [
    "def get_recommends(_model, user_id, matrix):\n",
    "    recommend_ids = _model.recommend_ids(user_id, matrix)\n",
    "    return get_movie_names(recommend_ids)\n",
    "\n",
    "get_recommends(model, 4, exp_user_item_csr)"
   ],
   "metadata": {
    "collapsed": false,
    "pycharm": {
     "name": "#%%\n"
    }
   }
  },
  {
   "cell_type": "markdown",
   "source": [
    "сделаем implicit матрицу рейтингов"
   ],
   "metadata": {
    "collapsed": false,
    "pycharm": {
     "name": "#%% md\n"
    }
   }
  },
  {
   "cell_type": "code",
   "execution_count": 8,
   "outputs": [],
   "source": [
    "imp_ratings = ratings.loc[(ratings['rating'] >= 4)]\n",
    "imp_users = imp_ratings['user_id']\n",
    "imp_movies = imp_ratings['movie_id']\n",
    "imp_user_item = sp.coo_matrix((np.ones_like(imp_users), (imp_users, imp_movies)))\n",
    "imp_user_item_csr = imp_user_item.tocsr()"
   ],
   "metadata": {
    "collapsed": false,
    "pycharm": {
     "name": "#%%\n"
    }
   }
  },
  {
   "cell_type": "code",
   "execution_count": 32,
   "outputs": [],
   "source": [
    "class ALS:\n",
    "\n",
    "    def __init__(self, factors=10, epochs=10, alpha=10, lambda_val=0.1, logging=False):\n",
    "        self.factors = factors\n",
    "        self.epochs = epochs\n",
    "        self.alpha = alpha\n",
    "        self.lambda_val = lambda_val\n",
    "        self.logging = logging\n",
    "        self.x, self.y = np.empty((0, 0)), np.empty((0, 0))\n",
    "\n",
    "    def fit(self, matrix):\n",
    "        n, m = matrix.shape\n",
    "        n, m = n - 1, m - 1\n",
    "        self.x = np.random.uniform(0, 1 / sqrt(self.factors), (n, self.factors))\n",
    "        self.y = np.random.uniform(0, 1 / sqrt(self.factors), (m, self.factors))\n",
    "        i_factors, i_users, i_items = self.lambda_val * np.eye(self.factors), np.eye(n), np.eye(m)\n",
    "        for ep in range(self.epochs):\n",
    "            xtx = self.x.T @ self.x\n",
    "            yty = self.y.T @ self.y\n",
    "            for u in range(n):\n",
    "                user_imp = matrix.getrow(u + 1).toarray()[0][1:]\n",
    "                nonzero = user_imp.nonzero()\n",
    "                # ускоряем за счет того, что в матрице С из формулы много нулевых столбцов\n",
    "                A = yty + (self.y.T[:, nonzero] @ self.y[nonzero])[:, 0, :] * self.alpha + i_factors\n",
    "                b = (self.y.T[:, nonzero] @ user_imp.T[nonzero] * (self.alpha + 1)).T[0]\n",
    "                self.x[u] = np.linalg.solve(A, b).T[0]\n",
    "            for i in range(m):\n",
    "                item_imp = matrix.getcol(i + 1).T.toarray()[0][1:]\n",
    "                nonzero = item_imp.nonzero()\n",
    "                A = xtx + (self.x.T[:, nonzero] @ self.x[nonzero])[:, 0, :] * self.alpha + i_factors\n",
    "                b = (self.x.T[:, nonzero] @ item_imp.T[nonzero] * (self.alpha + 1)).T[0]\n",
    "                self.y[i] = np.linalg.solve(A, b).T[0]\n",
    "            if self.logging:\n",
    "                print(f'Epoch {ep + 1}: ', end='')\n",
    "                print(f'RMSE = {self.rmse(matrix)}')\n",
    "\n",
    "    def predict(self, i, j):\n",
    "        return self.x[i - 1] @ self.y[j - 1].T\n",
    "\n",
    "    def similar_item_ids(self, item_id, cnt=10):\n",
    "        item_embeddings = self.y[item_id - 1]\n",
    "        dists = [(np.linalg.norm(item_embeddings - self.y[i]), i + 1) for i in range(len(self.y))]\n",
    "        dists.sort()\n",
    "        return [x[1] for x in dists[1:cnt + 1]]\n",
    "\n",
    "    def recommend_ids(self, user_id, matrix, cnt=10):\n",
    "        used = matrix.indices[matrix.indptr[user_id]:matrix.indptr[user_id + 1]]\n",
    "        predicts = [(self.predict(user_id, it + 1), it + 1) for it in range(len(self.y)) if it not in used]\n",
    "        predicts.sort()\n",
    "        predicts.reverse()\n",
    "        return [x[1] for x in predicts[:cnt]]\n",
    "\n",
    "    def rmse(self, matrix):\n",
    "        n, m = matrix.shape\n",
    "        loss = 0\n",
    "        predicts = self.x @ self.y.T\n",
    "        for i in range(1, n):\n",
    "            nz = matrix.getrow(i).nonzero()[1]\n",
    "            if len(nz) == 0:\n",
    "                for j in range(1, m):\n",
    "                    loss += predicts[i - 1][j - 1] ** 2\n",
    "                continue\n",
    "            cur_nz = 0\n",
    "            for j in range(1, m):\n",
    "                if nz[cur_nz] == j:\n",
    "                    loss += (1 + self.alpha) * (predicts[i - 1][j - 1] - 1) ** 2\n",
    "                    cur_nz += 1\n",
    "                    if cur_nz >= len(nz):\n",
    "                        for k in range(j + 1, m):\n",
    "                            loss += predicts[i - 1][k - 1] ** 2\n",
    "                        break\n",
    "                    continue\n",
    "                loss += predicts[i - 1][j - 1] ** 2\n",
    "        return sqrt(loss / (n * m))\n"
   ],
   "metadata": {
    "collapsed": false,
    "pycharm": {
     "name": "#%%\n"
    }
   }
  },
  {
   "cell_type": "code",
   "execution_count": 34,
   "outputs": [
    {
     "name": "stdout",
     "output_type": "stream",
     "text": [
      "Epoch 1: RMSE = 0.9845780945096181\n",
      "Epoch 2: RMSE = 0.6703251252969984\n",
      "Epoch 3: RMSE = 0.4894378160536007\n",
      "Epoch 4: RMSE = 0.4874016724451012\n",
      "Epoch 5: "
     ]
    },
    {
     "ename": "KeyboardInterrupt",
     "evalue": "",
     "output_type": "error",
     "traceback": [
      "\u001B[1;31m---------------------------------------------------------------------------\u001B[0m",
      "\u001B[1;31mKeyboardInterrupt\u001B[0m                         Traceback (most recent call last)",
      "\u001B[1;32m<ipython-input-34-d91da7f0a4b0>\u001B[0m in \u001B[0;36m<module>\u001B[1;34m\u001B[0m\n\u001B[0;32m      1\u001B[0m \u001B[0mmodel_als\u001B[0m \u001B[1;33m=\u001B[0m \u001B[0mALS\u001B[0m\u001B[1;33m(\u001B[0m\u001B[0mepochs\u001B[0m\u001B[1;33m=\u001B[0m\u001B[1;36m10\u001B[0m\u001B[1;33m,\u001B[0m \u001B[0mfactors\u001B[0m\u001B[1;33m=\u001B[0m\u001B[1;36m64\u001B[0m\u001B[1;33m,\u001B[0m \u001B[0malpha\u001B[0m\u001B[1;33m=\u001B[0m\u001B[1;36m40\u001B[0m\u001B[1;33m,\u001B[0m \u001B[0mlogging\u001B[0m\u001B[1;33m=\u001B[0m\u001B[1;32mTrue\u001B[0m\u001B[1;33m)\u001B[0m\u001B[1;33m\u001B[0m\u001B[1;33m\u001B[0m\u001B[0m\n\u001B[1;32m----> 2\u001B[1;33m \u001B[0mmodel_als\u001B[0m\u001B[1;33m.\u001B[0m\u001B[0mfit\u001B[0m\u001B[1;33m(\u001B[0m\u001B[0mimp_user_item_csr\u001B[0m\u001B[1;33m)\u001B[0m\u001B[1;33m\u001B[0m\u001B[1;33m\u001B[0m\u001B[0m\n\u001B[0m\u001B[0;32m      3\u001B[0m \u001B[1;33m\u001B[0m\u001B[0m\n",
      "\u001B[1;32m<ipython-input-32-a2a85845e3b0>\u001B[0m in \u001B[0;36mfit\u001B[1;34m(self, matrix)\u001B[0m\n\u001B[0;32m     32\u001B[0m             \u001B[1;32mif\u001B[0m \u001B[0mself\u001B[0m\u001B[1;33m.\u001B[0m\u001B[0mlogging\u001B[0m\u001B[1;33m:\u001B[0m\u001B[1;33m\u001B[0m\u001B[1;33m\u001B[0m\u001B[0m\n\u001B[0;32m     33\u001B[0m                 \u001B[0mprint\u001B[0m\u001B[1;33m(\u001B[0m\u001B[1;34mf'Epoch {ep + 1}: '\u001B[0m\u001B[1;33m,\u001B[0m \u001B[0mend\u001B[0m\u001B[1;33m=\u001B[0m\u001B[1;34m''\u001B[0m\u001B[1;33m)\u001B[0m\u001B[1;33m\u001B[0m\u001B[1;33m\u001B[0m\u001B[0m\n\u001B[1;32m---> 34\u001B[1;33m                 \u001B[0mprint\u001B[0m\u001B[1;33m(\u001B[0m\u001B[1;34mf'RMSE = {self.rmse(matrix)}'\u001B[0m\u001B[1;33m)\u001B[0m\u001B[1;33m\u001B[0m\u001B[1;33m\u001B[0m\u001B[0m\n\u001B[0m\u001B[0;32m     35\u001B[0m \u001B[1;33m\u001B[0m\u001B[0m\n\u001B[0;32m     36\u001B[0m     \u001B[1;32mdef\u001B[0m \u001B[0mpredict\u001B[0m\u001B[1;33m(\u001B[0m\u001B[0mself\u001B[0m\u001B[1;33m,\u001B[0m \u001B[0mi\u001B[0m\u001B[1;33m,\u001B[0m \u001B[0mj\u001B[0m\u001B[1;33m)\u001B[0m\u001B[1;33m:\u001B[0m\u001B[1;33m\u001B[0m\u001B[1;33m\u001B[0m\u001B[0m\n",
      "\u001B[1;32m<ipython-input-32-a2a85845e3b0>\u001B[0m in \u001B[0;36mrmse\u001B[1;34m(self, matrix)\u001B[0m\n\u001B[0;32m     55\u001B[0m         \u001B[0mpredicts\u001B[0m \u001B[1;33m=\u001B[0m \u001B[0mself\u001B[0m\u001B[1;33m.\u001B[0m\u001B[0mx\u001B[0m \u001B[1;33m@\u001B[0m \u001B[0mself\u001B[0m\u001B[1;33m.\u001B[0m\u001B[0my\u001B[0m\u001B[1;33m.\u001B[0m\u001B[0mT\u001B[0m\u001B[1;33m\u001B[0m\u001B[1;33m\u001B[0m\u001B[0m\n\u001B[0;32m     56\u001B[0m         \u001B[1;32mfor\u001B[0m \u001B[0mi\u001B[0m \u001B[1;32min\u001B[0m \u001B[0mrange\u001B[0m\u001B[1;33m(\u001B[0m\u001B[1;36m1\u001B[0m\u001B[1;33m,\u001B[0m \u001B[0mn\u001B[0m\u001B[1;33m)\u001B[0m\u001B[1;33m:\u001B[0m\u001B[1;33m\u001B[0m\u001B[1;33m\u001B[0m\u001B[0m\n\u001B[1;32m---> 57\u001B[1;33m             \u001B[0mnz\u001B[0m \u001B[1;33m=\u001B[0m \u001B[0mmatrix\u001B[0m\u001B[1;33m.\u001B[0m\u001B[0mgetrow\u001B[0m\u001B[1;33m(\u001B[0m\u001B[0mi\u001B[0m\u001B[1;33m)\u001B[0m\u001B[1;33m.\u001B[0m\u001B[0mnonzero\u001B[0m\u001B[1;33m(\u001B[0m\u001B[1;33m)\u001B[0m\u001B[1;33m[\u001B[0m\u001B[1;36m1\u001B[0m\u001B[1;33m]\u001B[0m\u001B[1;33m\u001B[0m\u001B[1;33m\u001B[0m\u001B[0m\n\u001B[0m\u001B[0;32m     58\u001B[0m             \u001B[1;32mif\u001B[0m \u001B[0mlen\u001B[0m\u001B[1;33m(\u001B[0m\u001B[0mnz\u001B[0m\u001B[1;33m)\u001B[0m \u001B[1;33m==\u001B[0m \u001B[1;36m0\u001B[0m\u001B[1;33m:\u001B[0m\u001B[1;33m\u001B[0m\u001B[1;33m\u001B[0m\u001B[0m\n\u001B[0;32m     59\u001B[0m                 \u001B[1;32mfor\u001B[0m \u001B[0mj\u001B[0m \u001B[1;32min\u001B[0m \u001B[0mrange\u001B[0m\u001B[1;33m(\u001B[0m\u001B[1;36m1\u001B[0m\u001B[1;33m,\u001B[0m \u001B[0mm\u001B[0m\u001B[1;33m)\u001B[0m\u001B[1;33m:\u001B[0m\u001B[1;33m\u001B[0m\u001B[1;33m\u001B[0m\u001B[0m\n",
      "\u001B[1;32mc:\\users\\asus\\university\\term06\\recsys\\venv\\lib\\site-packages\\scipy\\sparse\\base.py\u001B[0m in \u001B[0;36mnonzero\u001B[1;34m(self)\u001B[0m\n\u001B[0;32m    774\u001B[0m \u001B[1;33m\u001B[0m\u001B[0m\n\u001B[0;32m    775\u001B[0m         \u001B[1;31m# convert to COOrdinate format\u001B[0m\u001B[1;33m\u001B[0m\u001B[1;33m\u001B[0m\u001B[1;33m\u001B[0m\u001B[0m\n\u001B[1;32m--> 776\u001B[1;33m         \u001B[0mA\u001B[0m \u001B[1;33m=\u001B[0m \u001B[0mself\u001B[0m\u001B[1;33m.\u001B[0m\u001B[0mtocoo\u001B[0m\u001B[1;33m(\u001B[0m\u001B[1;33m)\u001B[0m\u001B[1;33m\u001B[0m\u001B[1;33m\u001B[0m\u001B[0m\n\u001B[0m\u001B[0;32m    777\u001B[0m         \u001B[0mnz_mask\u001B[0m \u001B[1;33m=\u001B[0m \u001B[0mA\u001B[0m\u001B[1;33m.\u001B[0m\u001B[0mdata\u001B[0m \u001B[1;33m!=\u001B[0m \u001B[1;36m0\u001B[0m\u001B[1;33m\u001B[0m\u001B[1;33m\u001B[0m\u001B[0m\n\u001B[0;32m    778\u001B[0m         \u001B[1;32mreturn\u001B[0m \u001B[1;33m(\u001B[0m\u001B[0mA\u001B[0m\u001B[1;33m.\u001B[0m\u001B[0mrow\u001B[0m\u001B[1;33m[\u001B[0m\u001B[0mnz_mask\u001B[0m\u001B[1;33m]\u001B[0m\u001B[1;33m,\u001B[0m \u001B[0mA\u001B[0m\u001B[1;33m.\u001B[0m\u001B[0mcol\u001B[0m\u001B[1;33m[\u001B[0m\u001B[0mnz_mask\u001B[0m\u001B[1;33m]\u001B[0m\u001B[1;33m)\u001B[0m\u001B[1;33m\u001B[0m\u001B[1;33m\u001B[0m\u001B[0m\n",
      "\u001B[1;32mc:\\users\\asus\\university\\term06\\recsys\\venv\\lib\\site-packages\\scipy\\sparse\\compressed.py\u001B[0m in \u001B[0;36mtocoo\u001B[1;34m(self, copy)\u001B[0m\n\u001B[0;32m   1021\u001B[0m \u001B[1;33m\u001B[0m\u001B[0m\n\u001B[0;32m   1022\u001B[0m         \u001B[1;32mfrom\u001B[0m \u001B[1;33m.\u001B[0m\u001B[0mcoo\u001B[0m \u001B[1;32mimport\u001B[0m \u001B[0mcoo_matrix\u001B[0m\u001B[1;33m\u001B[0m\u001B[1;33m\u001B[0m\u001B[0m\n\u001B[1;32m-> 1023\u001B[1;33m         return coo_matrix((self.data, (row, col)), self.shape, copy=copy,\n\u001B[0m\u001B[0;32m   1024\u001B[0m                           dtype=self.dtype)\n\u001B[0;32m   1025\u001B[0m \u001B[1;33m\u001B[0m\u001B[0m\n",
      "\u001B[1;32mc:\\users\\asus\\university\\term06\\recsys\\venv\\lib\\site-packages\\scipy\\sparse\\coo.py\u001B[0m in \u001B[0;36m__init__\u001B[1;34m(self, arg1, shape, dtype, copy)\u001B[0m\n\u001B[0;32m    195\u001B[0m             \u001B[0mself\u001B[0m\u001B[1;33m.\u001B[0m\u001B[0mdata\u001B[0m \u001B[1;33m=\u001B[0m \u001B[0mself\u001B[0m\u001B[1;33m.\u001B[0m\u001B[0mdata\u001B[0m\u001B[1;33m.\u001B[0m\u001B[0mastype\u001B[0m\u001B[1;33m(\u001B[0m\u001B[0mdtype\u001B[0m\u001B[1;33m,\u001B[0m \u001B[0mcopy\u001B[0m\u001B[1;33m=\u001B[0m\u001B[1;32mFalse\u001B[0m\u001B[1;33m)\u001B[0m\u001B[1;33m\u001B[0m\u001B[1;33m\u001B[0m\u001B[0m\n\u001B[0;32m    196\u001B[0m \u001B[1;33m\u001B[0m\u001B[0m\n\u001B[1;32m--> 197\u001B[1;33m         \u001B[0mself\u001B[0m\u001B[1;33m.\u001B[0m\u001B[0m_check\u001B[0m\u001B[1;33m(\u001B[0m\u001B[1;33m)\u001B[0m\u001B[1;33m\u001B[0m\u001B[1;33m\u001B[0m\u001B[0m\n\u001B[0m\u001B[0;32m    198\u001B[0m \u001B[1;33m\u001B[0m\u001B[0m\n\u001B[0;32m    199\u001B[0m     \u001B[1;32mdef\u001B[0m \u001B[0mreshape\u001B[0m\u001B[1;33m(\u001B[0m\u001B[0mself\u001B[0m\u001B[1;33m,\u001B[0m \u001B[1;33m*\u001B[0m\u001B[0margs\u001B[0m\u001B[1;33m,\u001B[0m \u001B[1;33m**\u001B[0m\u001B[0mkwargs\u001B[0m\u001B[1;33m)\u001B[0m\u001B[1;33m:\u001B[0m\u001B[1;33m\u001B[0m\u001B[1;33m\u001B[0m\u001B[0m\n",
      "\u001B[1;32mc:\\users\\asus\\university\\term06\\recsys\\venv\\lib\\site-packages\\scipy\\sparse\\coo.py\u001B[0m in \u001B[0;36m_check\u001B[1;34m(self)\u001B[0m\n\u001B[0;32m    283\u001B[0m             \u001B[1;32mif\u001B[0m \u001B[0mself\u001B[0m\u001B[1;33m.\u001B[0m\u001B[0mrow\u001B[0m\u001B[1;33m.\u001B[0m\u001B[0mmax\u001B[0m\u001B[1;33m(\u001B[0m\u001B[1;33m)\u001B[0m \u001B[1;33m>=\u001B[0m \u001B[0mself\u001B[0m\u001B[1;33m.\u001B[0m\u001B[0mshape\u001B[0m\u001B[1;33m[\u001B[0m\u001B[1;36m0\u001B[0m\u001B[1;33m]\u001B[0m\u001B[1;33m:\u001B[0m\u001B[1;33m\u001B[0m\u001B[1;33m\u001B[0m\u001B[0m\n\u001B[0;32m    284\u001B[0m                 \u001B[1;32mraise\u001B[0m \u001B[0mValueError\u001B[0m\u001B[1;33m(\u001B[0m\u001B[1;34m'row index exceeds matrix dimensions'\u001B[0m\u001B[1;33m)\u001B[0m\u001B[1;33m\u001B[0m\u001B[1;33m\u001B[0m\u001B[0m\n\u001B[1;32m--> 285\u001B[1;33m             \u001B[1;32mif\u001B[0m \u001B[0mself\u001B[0m\u001B[1;33m.\u001B[0m\u001B[0mcol\u001B[0m\u001B[1;33m.\u001B[0m\u001B[0mmax\u001B[0m\u001B[1;33m(\u001B[0m\u001B[1;33m)\u001B[0m \u001B[1;33m>=\u001B[0m \u001B[0mself\u001B[0m\u001B[1;33m.\u001B[0m\u001B[0mshape\u001B[0m\u001B[1;33m[\u001B[0m\u001B[1;36m1\u001B[0m\u001B[1;33m]\u001B[0m\u001B[1;33m:\u001B[0m\u001B[1;33m\u001B[0m\u001B[1;33m\u001B[0m\u001B[0m\n\u001B[0m\u001B[0;32m    286\u001B[0m                 \u001B[1;32mraise\u001B[0m \u001B[0mValueError\u001B[0m\u001B[1;33m(\u001B[0m\u001B[1;34m'column index exceeds matrix dimensions'\u001B[0m\u001B[1;33m)\u001B[0m\u001B[1;33m\u001B[0m\u001B[1;33m\u001B[0m\u001B[0m\n\u001B[0;32m    287\u001B[0m             \u001B[1;32mif\u001B[0m \u001B[0mself\u001B[0m\u001B[1;33m.\u001B[0m\u001B[0mrow\u001B[0m\u001B[1;33m.\u001B[0m\u001B[0mmin\u001B[0m\u001B[1;33m(\u001B[0m\u001B[1;33m)\u001B[0m \u001B[1;33m<\u001B[0m \u001B[1;36m0\u001B[0m\u001B[1;33m:\u001B[0m\u001B[1;33m\u001B[0m\u001B[1;33m\u001B[0m\u001B[0m\n",
      "\u001B[1;32mc:\\users\\asus\\university\\term06\\recsys\\venv\\lib\\site-packages\\numpy\\core\\_methods.py\u001B[0m in \u001B[0;36m_amax\u001B[1;34m(a, axis, out, keepdims, initial, where)\u001B[0m\n\u001B[0;32m     37\u001B[0m def _amax(a, axis=None, out=None, keepdims=False,\n\u001B[0;32m     38\u001B[0m           initial=_NoValue, where=True):\n\u001B[1;32m---> 39\u001B[1;33m     \u001B[1;32mreturn\u001B[0m \u001B[0mumr_maximum\u001B[0m\u001B[1;33m(\u001B[0m\u001B[0ma\u001B[0m\u001B[1;33m,\u001B[0m \u001B[0maxis\u001B[0m\u001B[1;33m,\u001B[0m \u001B[1;32mNone\u001B[0m\u001B[1;33m,\u001B[0m \u001B[0mout\u001B[0m\u001B[1;33m,\u001B[0m \u001B[0mkeepdims\u001B[0m\u001B[1;33m,\u001B[0m \u001B[0minitial\u001B[0m\u001B[1;33m,\u001B[0m \u001B[0mwhere\u001B[0m\u001B[1;33m)\u001B[0m\u001B[1;33m\u001B[0m\u001B[1;33m\u001B[0m\u001B[0m\n\u001B[0m\u001B[0;32m     40\u001B[0m \u001B[1;33m\u001B[0m\u001B[0m\n\u001B[0;32m     41\u001B[0m def _amin(a, axis=None, out=None, keepdims=False,\n",
      "\u001B[1;31mKeyboardInterrupt\u001B[0m: "
     ]
    }
   ],
   "source": [
    "model_als = ALS(epochs=10, factors=64, alpha=40, logging=True)\n",
    "model_als.fit(imp_user_item_csr)"
   ],
   "metadata": {
    "collapsed": false,
    "pycharm": {
     "name": "#%%\n"
    }
   }
  },
  {
   "cell_type": "markdown",
   "source": [
    "симилары для Toy Story"
   ],
   "metadata": {
    "collapsed": false,
    "pycharm": {
     "name": "#%% md\n"
    }
   }
  },
  {
   "cell_type": "code",
   "execution_count": 35,
   "outputs": [
    {
     "name": "stdout",
     "output_type": "stream",
     "text": [
      "movie_id                              1\n",
      "name                   Toy Story (1995)\n",
      "category    Animation|Children's|Comedy\n",
      "Name: 0, dtype: object\n"
     ]
    },
    {
     "data": {
      "text/plain": "['1061    Sleeper (1973)',\n '2966    Mister Roberts (1955)',\n '964    Farewell to Arms, A (1932)',\n '1057    For the Moment (1994)',\n '907    Wizard of Oz, The (1939)',\n '3412    High Fidelity (2000)',\n '3833    Urbania (2000)',\n '2708    Cobra (1925)',\n '2096    Your Friends and Neighbors (1998)',\n '3161    Odessa File, The (1974)']"
     },
     "execution_count": 35,
     "metadata": {},
     "output_type": "execute_result"
    }
   ],
   "source": [
    "print(movie_info.loc[0])\n",
    "get_similar_movies(model_als, 1)"
   ],
   "metadata": {
    "collapsed": false,
    "pycharm": {
     "name": "#%%\n"
    }
   }
  },
  {
   "cell_type": "code",
   "execution_count": 38,
   "outputs": [
    {
     "data": {
      "text/plain": "['3352    Animal House (1978)   4',\n '1595    Full Monty, The (1997)   2',\n '642    Mission: Impossible (1996)   3',\n '1373    Raising Arizona (1987)   4',\n '3465    28 Days (2000)   3',\n '102    Happy Gilmore (1996)   4',\n '2666    Golden Child, The (1986)   4',\n '1192    Star Wars: Episode VI - Return of the Jedi (1983)   4',\n '1407    Beverly Hills Ninja (1997)   3',\n '3798    Naked Gun: From the Files of Police Squad!, Th...   3',\n '1063    Fish Called Wanda, A (1988)   5',\n '2928    Being John Malkovich (1999)   3',\n '1573    Edge, The (1997)   5',\n '1271    Indiana Jones and the Last Crusade (1989)   4',\n '1239    Stand by Me (1986)   5',\n '647    Dragonheart (1996)   4',\n '2098    Blade (1998)   5',\n '1539    Men in Black (1997)   3',\n '3550    Hollywood Knights, The (1980)   2',\n '257    Star Wars: Episode IV - A New Hope (1977)   5',\n '2789    American Beauty (1999)   4',\n '3045    Toy Story 2 (1999)   3',\n '1035    Ghost and the Darkness, The (1996)   4',\n '1241    Evil Dead II (Dead By Dawn) (1987)   1',\n '548    Three Musketeers, The (1993)   4',\n '476    Jurassic Park (1993)   4',\n '1245    Groundhog Day (1993)   2',\n '1246    Unforgiven (1992)   5',\n '724    Rock, The (1996)   5',\n '1178    Star Wars: Episode V - The Empire Strikes Back...   4',\n '586    Dances with Wolves (1990)   4',\n \"2286    Bug's Life, A (1998)   5\",\n '1179    Princess Bride, The (1987)   5',\n '1180    Raiders of the Lost Ark (1981)   5',\n '1357    Young Guns (1988)   5',\n '589    Silence of the Lambs, The (1991)   3',\n '1358    Young Guns II (1990)   4',\n '3483    Caddyshack (1980)   5',\n '1284    Butch Cassidy and the Sundance Kid (1969)   5',\n '1250    Back to the Future (1985)   3',\n '2401    Crocodile Dundee (1986)   4',\n '3099    Easy Rider (1969)   4',\n '2548    Mummy, The (1999)   2',\n '1892    Rain Man (1988)   4',\n '3602    Blazing Saddles (1974)   5',\n '1937    Mask of Zorro, The (1998)   4',\n '2802    Deliverance (1972)   4',\n '2046    Indiana Jones and the Temple of Doom (1984)   4',\n '1899    Breakfast Club, The (1985)   4',\n '1120    Monty Python and the Holy Grail (1974)   5',\n '2012    Little Mermaid, The (1989)   4']"
     },
     "execution_count": 38,
     "metadata": {},
     "output_type": "execute_result"
    }
   ],
   "source": [
    "get_user_history(4)"
   ],
   "metadata": {
    "collapsed": false,
    "pycharm": {
     "name": "#%%\n"
    }
   }
  },
  {
   "cell_type": "markdown",
   "source": [
    "Рекомендации для юзера 4"
   ],
   "metadata": {
    "collapsed": false,
    "pycharm": {
     "name": "#%% md\n"
    }
   }
  },
  {
   "cell_type": "code",
   "execution_count": 37,
   "outputs": [
    {
     "data": {
      "text/plain": "['2789    American Beauty (1999)',\n '257    Star Wars: Episode IV - A New Hope (1977)',\n '1959    Saving Private Ryan (1998)',\n '1192    Star Wars: Episode VI - Return of the Jedi (1983)',\n '2693    Sixth Sense, The (1999)',\n '1178    Star Wars: Episode V - The Empire Strikes Back...',\n '589    Silence of the Lambs, The (1991)',\n '108    Braveheart (1995)',\n '585    or 2: Judgment Day (1991)',\n '2502    Matrix, The (1999)']"
     },
     "execution_count": 37,
     "metadata": {},
     "output_type": "execute_result"
    }
   ],
   "source": [
    "get_recommends(model_als, 4, imp_user_item_csr)"
   ],
   "metadata": {
    "collapsed": false,
    "pycharm": {
     "name": "#%%\n"
    }
   }
  }
 ],
 "metadata": {
  "kernelspec": {
   "display_name": "Python 3",
   "language": "python",
   "name": "python3"
  },
  "language_info": {
   "codemirror_mode": {
    "name": "ipython",
    "version": 2
   },
   "file_extension": ".py",
   "mimetype": "text/x-python",
   "name": "python",
   "nbconvert_exporter": "python",
   "pygments_lexer": "ipython2",
   "version": "2.7.6"
  }
 },
 "nbformat": 4,
 "nbformat_minor": 0
}