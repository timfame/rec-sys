{
 "cells": [
  {
   "cell_type": "code",
   "execution_count": 39,
   "metadata": {
    "collapsed": true
   },
   "outputs": [],
   "source": [
    "import pandas as pd\n",
    "import numpy as np\n",
    "import scipy.sparse as sp"
   ]
  },
  {
   "cell_type": "code",
   "execution_count": 40,
   "outputs": [],
   "source": [
    "ratings = pd.read_csv('./ml-1m/ratings.dat', delimiter='::', header=None,\n",
    "                      names=['user_id', 'movie_id', 'rating', 'timestamp'],\n",
    "                      usecols=['user_id', 'movie_id', 'rating'], engine='python')\n",
    "movie_info = pd.read_csv('./ml-1m/movies.dat', delimiter='::', header=None,\n",
    "                         names=['movie_id', 'name', 'category'], engine='python')\n",
    "user_info = pd.read_csv('./ml-1m/users.dat', delimiter='::', header=None,\n",
    "                        names=['user_id', 'gender', 'age', 'occupation', 'zip_code'], engine='python')"
   ],
   "metadata": {
    "collapsed": false,
    "pycharm": {
     "name": "#%%\n"
    }
   }
  },
  {
   "cell_type": "code",
   "execution_count": 41,
   "outputs": [
    {
     "data": {
      "text/plain": "   user_id  movie_id  rating\n0        1      1193       5\n1        1       661       3\n2        1       914       3\n3        1      3408       4\n4        1      2355       5",
      "text/html": "<div>\n<style scoped>\n    .dataframe tbody tr th:only-of-type {\n        vertical-align: middle;\n    }\n\n    .dataframe tbody tr th {\n        vertical-align: top;\n    }\n\n    .dataframe thead th {\n        text-align: right;\n    }\n</style>\n<table border=\"1\" class=\"dataframe\">\n  <thead>\n    <tr style=\"text-align: right;\">\n      <th></th>\n      <th>user_id</th>\n      <th>movie_id</th>\n      <th>rating</th>\n    </tr>\n  </thead>\n  <tbody>\n    <tr>\n      <th>0</th>\n      <td>1</td>\n      <td>1193</td>\n      <td>5</td>\n    </tr>\n    <tr>\n      <th>1</th>\n      <td>1</td>\n      <td>661</td>\n      <td>3</td>\n    </tr>\n    <tr>\n      <th>2</th>\n      <td>1</td>\n      <td>914</td>\n      <td>3</td>\n    </tr>\n    <tr>\n      <th>3</th>\n      <td>1</td>\n      <td>3408</td>\n      <td>4</td>\n    </tr>\n    <tr>\n      <th>4</th>\n      <td>1</td>\n      <td>2355</td>\n      <td>5</td>\n    </tr>\n  </tbody>\n</table>\n</div>"
     },
     "execution_count": 41,
     "metadata": {},
     "output_type": "execute_result"
    }
   ],
   "source": [
    "ratings.head(5)"
   ],
   "metadata": {
    "collapsed": false,
    "pycharm": {
     "name": "#%%\n"
    }
   }
  },
  {
   "cell_type": "code",
   "execution_count": 49,
   "outputs": [],
   "source": [
    "from math import sqrt\n",
    "\n",
    "class SGD:\n",
    "\n",
    "    def __init__(self, factors=64, epochs=10,\n",
    "                 regularization=0.02, learning_rate=0.005,\n",
    "                 logging=False):\n",
    "        self.epochs = epochs\n",
    "        self.factors = factors\n",
    "        self.regularization = regularization\n",
    "        self.learning_rate = learning_rate\n",
    "        self.users, self.bu = np.empty(0), np.empty(0)\n",
    "        self.items, self.bi = np.empty(0), np.empty(0)\n",
    "        self.mu = 0\n",
    "        self.logging = logging\n",
    "        self.rmse = None\n",
    "\n",
    "    def fit(self, matrix):\n",
    "        n, m = matrix.shape\n",
    "        self.users = np.random.uniform(0, 1 / sqrt(self.factors), (n, self.factors))\n",
    "        self.items = np.random.uniform(0, 1 / sqrt(self.factors), (m, self.factors))\n",
    "        self.bu = np.zeros(n)\n",
    "        self.bi = np.zeros(m)\n",
    "        self.mu = matrix.data.mean()\n",
    "\n",
    "        indices = matrix.nonzero()\n",
    "        order = [o for o in range(len(indices[0]))]\n",
    "\n",
    "        for ep in range(self.epochs):\n",
    "            np.random.shuffle(order)\n",
    "            errors = []\n",
    "            for o in order:\n",
    "                i, j = indices[0][o], indices[1][o]\n",
    "                error = self.predict(i, j) - matrix[i, j]\n",
    "                self.bu[i] -= (error + self.regularization * self.bu[i]) * self.learning_rate\n",
    "                self.bi[j] -= (error + self.regularization * self.bi[j]) * self.learning_rate\n",
    "                self.users[i] -= (error * self.items[j] + self.regularization * self.users[i]) * self.learning_rate\n",
    "                self.items[j] -= (error * self.users[i] + self.regularization * self.items[j]) * self.learning_rate\n",
    "                errors.append(self.predict(i, j) - matrix[i, j])\n",
    "            errors = np.array(errors)\n",
    "            loss = np.square(errors).mean()\n",
    "            self.rmse = sqrt(loss)\n",
    "            if self.logging:\n",
    "                print(f'Epoch {ep + 1}: RMSE = {self.rmse}')\n",
    "\n",
    "    def predict(self, i, j):\n",
    "        return self.users[i] @ self.items[j] + self.bu[i] + self.bi[j] + self.mu\n",
    "\n",
    "    def similar_item_ids(self, item_id, cnt=10):\n",
    "        item_embeddings = self.items[item_id]\n",
    "        all_items = self.items[1:]\n",
    "        dists = [(np.linalg.norm(item_embeddings - all_items[i]), i + 1) for i in range(len(all_items))]\n",
    "        dists.sort()\n",
    "        return [x[1] for x in dists[1:cnt + 1]]\n",
    "\n",
    "    def recommend_ids(self, user_id, matrix, cnt=10):\n",
    "        used = matrix.indices[matrix.indptr[user_id]:matrix.indptr[user_id + 1]]\n",
    "        predicts = [(self.predict(user_id, it), it) for it in range(1, len(self.items)) if it not in used]\n",
    "        predicts.sort()\n",
    "        predicts.reverse()\n",
    "        return [x[1] for x in predicts[:cnt]]"
   ],
   "metadata": {
    "collapsed": false,
    "pycharm": {
     "name": "#%%\n"
    }
   }
  },
  {
   "cell_type": "code",
   "execution_count": 43,
   "outputs": [],
   "source": [
    "exp_user_item = sp.coo_matrix((ratings['rating'], (ratings['user_id'], ratings['movie_id'])))\n",
    "exp_user_item_csr = exp_user_item.tocsr()"
   ],
   "metadata": {
    "collapsed": false,
    "pycharm": {
     "name": "#%%\n"
    }
   }
  },
  {
   "cell_type": "code",
   "execution_count": 44,
   "outputs": [
    {
     "name": "stdout",
     "output_type": "stream",
     "text": [
      "Epoch 1: RMSE = 0.9640281992093716\n",
      "Epoch 2: RMSE = 0.9083113406464098\n",
      "Epoch 3: RMSE = 0.8972108552968271\n",
      "Epoch 4: RMSE = 0.891117201403663\n",
      "Epoch 5: RMSE = 0.8862245640259362\n",
      "Epoch 6: RMSE = 0.8811655695744155\n",
      "Epoch 7: RMSE = 0.8756316411541469\n",
      "Epoch 8: RMSE = 0.8693657697491243\n",
      "Epoch 9: RMSE = 0.8624609465175038\n",
      "Epoch 10: RMSE = 0.854822421051097\n",
      "Epoch 11: RMSE = 0.8465583380581047\n",
      "Epoch 12: RMSE = 0.8376524743531241\n",
      "Epoch 13: RMSE = 0.828141605285752\n",
      "Epoch 14: RMSE = 0.818095125518716\n",
      "Epoch 15: RMSE = 0.8076596972084792\n",
      "Epoch 16: RMSE = 0.7970042741626913\n",
      "Epoch 17: RMSE = 0.7862435850765072\n",
      "Epoch 18: RMSE = 0.7754367474503966\n",
      "Epoch 19: RMSE = 0.7645699060491052\n",
      "Epoch 20: RMSE = 0.7538716942268666\n"
     ]
    }
   ],
   "source": [
    "model = SGD(epochs=20, logging=True)\n",
    "model.fit(exp_user_item_csr)"
   ],
   "metadata": {
    "collapsed": false,
    "pycharm": {
     "name": "#%%\n"
    }
   }
  },
  {
   "cell_type": "markdown",
   "source": [
    "найдем симилары"
   ],
   "metadata": {
    "collapsed": false
   }
  },
  {
   "cell_type": "code",
   "execution_count": 57,
   "outputs": [],
   "source": [
    "def get_movie_names(ids):\n",
    "    return [movie_info[movie_info['movie_id'] == mid]['name'].to_string() for mid in ids]\n",
    "\n",
    "def get_similar_movies(_model, item_id):\n",
    "    similar_ids = model.similar_item_ids(item_id)\n",
    "    return get_movie_names(similar_ids)"
   ],
   "metadata": {
    "collapsed": false,
    "pycharm": {
     "name": "#%%\n"
    }
   }
  },
  {
   "cell_type": "markdown",
   "source": [
    "симилары для Toy Story"
   ],
   "metadata": {
    "collapsed": false,
    "pycharm": {
     "name": "#%% md\n"
    }
   }
  },
  {
   "cell_type": "code",
   "execution_count": 46,
   "outputs": [
    {
     "name": "stdout",
     "output_type": "stream",
     "text": [
      "movie_id                              1\n",
      "name                   Toy Story (1995)\n",
      "category    Animation|Children's|Comedy\n",
      "Name: 0, dtype: object\n"
     ]
    },
    {
     "data": {
      "text/plain": "['3045    Toy Story 2 (1999)',\n \"2286    Bug's Life, A (1998)\",\n '1526    Hercules (1997)',\n '2020    Rescuers Down Under, The (1990)',\n '584    Aladdin (1992)',\n '1838    Mulan (1998)',\n '1551    Air Bud (1997)',\n '2021    Rescuers, The (1977)',\n '2009    Jungle Book, The (1967)',\n \"1459    Cats Don't Dance (1997)\"]"
     },
     "execution_count": 46,
     "metadata": {},
     "output_type": "execute_result"
    }
   ],
   "source": [
    "print(movie_info.loc[0])\n",
    "get_similar_movies(model, 1)"
   ],
   "metadata": {
    "collapsed": false,
    "pycharm": {
     "name": "#%%\n"
    }
   }
  },
  {
   "cell_type": "markdown",
   "source": [
    "Рейтинги фильмов от юзера 4"
   ],
   "metadata": {
    "collapsed": false,
    "pycharm": {
     "name": "#%% md\n"
    }
   }
  },
  {
   "cell_type": "code",
   "execution_count": 47,
   "outputs": [
    {
     "data": {
      "text/plain": "['3399    Hustler, The (1961)   5',\n '1192    Star Wars: Episode VI - Return of the Jedi (1983)   3',\n '2882    Fistful of Dollars, A (1964)   4',\n '1196    Alien (1979)   4',\n '1023    Die Hard (1988)   4',\n '257    Star Wars: Episode IV - A New Hope (1977)   5',\n '1959    Saving Private Ryan (1998)   5',\n '476    Jurassic Park (1993)   4',\n '1178    Star Wars: Episode V - The Empire Strikes Back...   2',\n '1180    Raiders of the Lost Ark (1981)   5',\n '1885    Rocky (1976)   5',\n '1081    E.T. the Extra-Terrestrial (1982)   4',\n '3349    Thelma & Louise (1991)   4',\n '3633    Mad Max (1979)   4',\n '2297    King Kong (1933)   4',\n '1366    Jaws (1975)   5',\n '3458    Predator (1987)   1',\n '1183    Good, The Bad and The Ugly, The (1966)   5',\n '2623    Run Lola Run (Lola rennt) (1998)   5',\n '2878    Goldfinger (1964)   5',\n '1220    Terminator, The (1984)   5']"
     },
     "execution_count": 47,
     "metadata": {},
     "output_type": "execute_result"
    }
   ],
   "source": [
    "get_user_history = lambda user_id: [movie_info[movie_info['movie_id'] == mid]['name'].to_string() + \"   \" + str(rat)\n",
    "                                    for mid, rat in zip(ratings[ratings['user_id'] == user_id]['movie_id'],\n",
    "                                                        ratings[ratings['user_id'] == user_id]['rating'])]\n",
    "get_user_history(4)"
   ],
   "metadata": {
    "collapsed": false,
    "pycharm": {
     "name": "#%%\n"
    }
   }
  },
  {
   "cell_type": "markdown",
   "source": [
    "Получим рекомендации для юзера 4"
   ],
   "metadata": {
    "collapsed": false,
    "pycharm": {
     "name": "#%% md\n"
    }
   }
  },
  {
   "cell_type": "code",
   "execution_count": 58,
   "outputs": [
    {
     "data": {
      "text/plain": "['2836    Sanjuro (1962)',\n '900    Casablanca (1942)',\n '2961    Yojimbo (1961)',\n '1950    Seven Samurai (The Magnificent Seven) (Shichin...',\n \"1176    One Flew Over the Cuckoo's Nest (1975)\",\n '3269    For All Mankind (1989)',\n '1162    Paths of Glory (1957)',\n '2953    General, The (1927)',\n '1189    To Kill a Mockingbird (1962)',\n '910    Sunset Blvd. (a.k.a. Sunset Boulevard) (1950)']"
     },
     "execution_count": 58,
     "metadata": {},
     "output_type": "execute_result"
    }
   ],
   "source": [
    "def get_recommends(_model, user_id, matrix):\n",
    "    recommend_ids = _model.recommend_ids(user_id, matrix)\n",
    "    return get_movie_names(recommend_ids)\n",
    "\n",
    "get_recommends(model, 4, exp_user_item_csr)"
   ],
   "metadata": {
    "collapsed": false,
    "pycharm": {
     "name": "#%%\n"
    }
   }
  },
  {
   "cell_type": "markdown",
   "source": [
    "сделаем implicit матрицу рейтингов"
   ],
   "metadata": {
    "collapsed": false,
    "pycharm": {
     "name": "#%% md\n"
    }
   }
  },
  {
   "cell_type": "code",
   "execution_count": 59,
   "outputs": [],
   "source": [
    "imp_ratings = ratings.loc[(ratings['rating'] >= 4)]\n",
    "imp_users = imp_ratings['user_id']\n",
    "imp_movies = imp_ratings['movie_id']\n",
    "imp_user_item = sp.coo_matrix((np.ones_like(imp_users), (imp_users, imp_movies)))\n",
    "imp_user_item_csr = imp_user_item.tocsr()"
   ],
   "metadata": {
    "collapsed": false,
    "pycharm": {
     "name": "#%%\n"
    }
   }
  },
  {
   "cell_type": "code",
   "execution_count": 62,
   "outputs": [],
   "source": [
    "class ALS:\n",
    "\n",
    "    def __init__(self, factors=10, epochs=10, alpha=10, lambda_val=0.1, logging=False):\n",
    "        self.factors = factors\n",
    "        self.epochs = epochs\n",
    "        self.alpha = alpha\n",
    "        self.lambda_val = lambda_val\n",
    "        self.logging = logging\n",
    "        self.x, self.y = np.empty((0, 0)), np.empty((0, 0))\n",
    "\n",
    "    def fit(self, matrix):\n",
    "        n, m = matrix.shape\n",
    "        # в ALS решил все индексировать с 0, а не с 1, как в датасете\n",
    "        n, m = n - 1, m - 1\n",
    "        self.x = np.random.uniform(0, 1 / sqrt(self.factors), (n, self.factors))\n",
    "        self.y = np.random.uniform(0, 1 / sqrt(self.factors), (m, self.factors))\n",
    "        i_factors, i_users, i_items = self.lambda_val * np.eye(self.factors), np.eye(n), np.eye(m)\n",
    "        for ep in range(self.epochs):\n",
    "            xtx = self.x.T @ self.x\n",
    "            yty = self.y.T @ self.y\n",
    "            for u in range(n):\n",
    "                user_imp = matrix.getrow(u + 1).toarray()[0][1:]\n",
    "                nonzero = user_imp.nonzero()\n",
    "                # ускоряем за счет того, что в матрице (С-I) из формулы много нулевых столбцов\n",
    "                A = yty + (self.y.T[:, nonzero] @ self.y[nonzero])[:, 0, :] * self.alpha + i_factors\n",
    "                # ускоряем за счет того что в матрице C*p(u) из формулы много нулевых столбцов\n",
    "                b = (self.y.T[:, nonzero] @ user_imp.T[nonzero] * (self.alpha + 1)).T[0]\n",
    "                self.x[u] = np.linalg.solve(A, b).T[0]\n",
    "            for i in range(m):\n",
    "                item_imp = matrix.getcol(i + 1).T.toarray()[0][1:]\n",
    "                nonzero = item_imp.nonzero()\n",
    "                A = xtx + (self.x.T[:, nonzero] @ self.x[nonzero])[:, 0, :] * self.alpha + i_factors\n",
    "                b = (self.x.T[:, nonzero] @ item_imp.T[nonzero] * (self.alpha + 1)).T[0]\n",
    "                self.y[i] = np.linalg.solve(A, b).T[0]\n",
    "            if self.logging:\n",
    "                print(f'Epoch {ep + 1}: ', end='')\n",
    "                if ep % 2 == 0:\n",
    "                    print(f'RMSE = {self.rmse(matrix)}', end='')\n",
    "                print()\n",
    "\n",
    "    def predict(self, i, j):\n",
    "        return self.x[i - 1] @ self.y[j - 1].T\n",
    "\n",
    "    def similar_item_ids(self, item_id, cnt=10):\n",
    "        item_embeddings = self.y[item_id - 1]\n",
    "        dists = [(np.linalg.norm(item_embeddings - self.y[i]), i + 1) for i in range(len(self.y))]\n",
    "        dists.sort()\n",
    "        return [x[1] for x in dists[1:cnt + 1]]\n",
    "\n",
    "    def recommend_ids(self, user_id, matrix, cnt=10):\n",
    "        used = matrix.indices[matrix.indptr[user_id]:matrix.indptr[user_id + 1]]\n",
    "        predicts = [(self.predict(user_id, it + 1), it + 1) for it in range(len(self.y)) if it not in used]\n",
    "        predicts.sort()\n",
    "        predicts.reverse()\n",
    "        return [x[1] for x in predicts[:cnt]]\n",
    "\n",
    "    def rmse(self, matrix):\n",
    "        n, m = matrix.shape\n",
    "        loss = 0\n",
    "        predicts = self.x @ self.y.T\n",
    "        for i in range(1, n):\n",
    "            # считается долго, поэтому убрал все обращение к sparse-матрице по индексам,\n",
    "            # учитывая все nonzero() индексы как 1, остальное - 0\n",
    "            nz = matrix.getrow(i).nonzero()[1]\n",
    "            if len(nz) == 0:\n",
    "                for j in range(1, m):\n",
    "                    loss += predicts[i - 1][j - 1] ** 2\n",
    "                continue\n",
    "            cur_nz = 0\n",
    "            for j in range(1, m):\n",
    "                if nz[cur_nz] == j:\n",
    "                    loss += (1 + self.alpha) * (predicts[i - 1][j - 1] - 1) ** 2\n",
    "                    cur_nz += 1\n",
    "                    if cur_nz >= len(nz):\n",
    "                        for k in range(j + 1, m):\n",
    "                            loss += predicts[i - 1][k - 1] ** 2\n",
    "                        break\n",
    "                    continue\n",
    "                loss += predicts[i - 1][j - 1] ** 2\n",
    "        return sqrt(loss / (n * m))\n"
   ],
   "metadata": {
    "collapsed": false,
    "pycharm": {
     "name": "#%%\n"
    }
   }
  },
  {
   "cell_type": "code",
   "execution_count": 63,
   "outputs": [
    {
     "name": "stdout",
     "output_type": "stream",
     "text": [
      "Epoch 1: RMSE = 1.6613648073887441\n",
      "Epoch 2: \n",
      "Epoch 3: RMSE = 0.5521409648371195\n",
      "Epoch 4: \n",
      "Epoch 5: RMSE = 0.49022085050843933\n",
      "Epoch 6: \n",
      "Epoch 7: RMSE = 0.4873519160884172\n"
     ]
    }
   ],
   "source": [
    "model_als = ALS(epochs=7, factors=64, alpha=40, logging=True)\n",
    "model_als.fit(imp_user_item_csr)"
   ],
   "metadata": {
    "collapsed": false,
    "pycharm": {
     "name": "#%%\n"
    }
   }
  },
  {
   "cell_type": "markdown",
   "source": [
    "симилары для Toy Story"
   ],
   "metadata": {
    "collapsed": false,
    "pycharm": {
     "name": "#%% md\n"
    }
   }
  },
  {
   "cell_type": "code",
   "execution_count": 64,
   "outputs": [
    {
     "name": "stdout",
     "output_type": "stream",
     "text": [
      "movie_id                              1\n",
      "name                   Toy Story (1995)\n",
      "category    Animation|Children's|Comedy\n",
      "Name: 0, dtype: object\n"
     ]
    },
    {
     "data": {
      "text/plain": "['3045    Toy Story 2 (1999)',\n \"2286    Bug's Life, A (1998)\",\n '1526    Hercules (1997)',\n '2020    Rescuers Down Under, The (1990)',\n '584    Aladdin (1992)',\n '1838    Mulan (1998)',\n '1551    Air Bud (1997)',\n '2021    Rescuers, The (1977)',\n '2009    Jungle Book, The (1967)',\n \"1459    Cats Don't Dance (1997)\"]"
     },
     "execution_count": 64,
     "metadata": {},
     "output_type": "execute_result"
    }
   ],
   "source": [
    "print(movie_info.loc[0])\n",
    "get_similar_movies(model_als, 1)"
   ],
   "metadata": {
    "collapsed": false,
    "pycharm": {
     "name": "#%%\n"
    }
   }
  },
  {
   "cell_type": "code",
   "execution_count": 65,
   "outputs": [
    {
     "data": {
      "text/plain": "['3399    Hustler, The (1961)   5',\n '1192    Star Wars: Episode VI - Return of the Jedi (1983)   3',\n '2882    Fistful of Dollars, A (1964)   4',\n '1196    Alien (1979)   4',\n '1023    Die Hard (1988)   4',\n '257    Star Wars: Episode IV - A New Hope (1977)   5',\n '1959    Saving Private Ryan (1998)   5',\n '476    Jurassic Park (1993)   4',\n '1178    Star Wars: Episode V - The Empire Strikes Back...   2',\n '1180    Raiders of the Lost Ark (1981)   5',\n '1885    Rocky (1976)   5',\n '1081    E.T. the Extra-Terrestrial (1982)   4',\n '3349    Thelma & Louise (1991)   4',\n '3633    Mad Max (1979)   4',\n '2297    King Kong (1933)   4',\n '1366    Jaws (1975)   5',\n '3458    Predator (1987)   1',\n '1183    Good, The Bad and The Ugly, The (1966)   5',\n '2623    Run Lola Run (Lola rennt) (1998)   5',\n '2878    Goldfinger (1964)   5',\n '1220    Terminator, The (1984)   5']"
     },
     "execution_count": 65,
     "metadata": {},
     "output_type": "execute_result"
    }
   ],
   "source": [
    "get_user_history(4)"
   ],
   "metadata": {
    "collapsed": false,
    "pycharm": {
     "name": "#%%\n"
    }
   }
  },
  {
   "cell_type": "markdown",
   "source": [
    "Рекомендации для юзера 4"
   ],
   "metadata": {
    "collapsed": false,
    "pycharm": {
     "name": "#%% md\n"
    }
   }
  },
  {
   "cell_type": "code",
   "execution_count": 66,
   "outputs": [
    {
     "data": {
      "text/plain": "['2789    American Beauty (1999)',\n '257    Star Wars: Episode IV - A New Hope (1977)',\n '1959    Saving Private Ryan (1998)',\n '1192    Star Wars: Episode VI - Return of the Jedi (1983)',\n '2693    Sixth Sense, The (1999)',\n '1178    Star Wars: Episode V - The Empire Strikes Back...',\n '589    Silence of the Lambs, The (1991)',\n '108    Braveheart (1995)',\n '585    or 2: Judgment Day (1991)',\n '2502    Matrix, The (1999)']"
     },
     "execution_count": 66,
     "metadata": {},
     "output_type": "execute_result"
    }
   ],
   "source": [
    "get_recommends(model_als, 4, imp_user_item_csr)"
   ],
   "metadata": {
    "collapsed": false,
    "pycharm": {
     "name": "#%%\n"
    }
   }
  }
 ],
 "metadata": {
  "kernelspec": {
   "display_name": "Python 3",
   "language": "python",
   "name": "python3"
  },
  "language_info": {
   "codemirror_mode": {
    "name": "ipython",
    "version": 2
   },
   "file_extension": ".py",
   "mimetype": "text/x-python",
   "name": "python",
   "nbconvert_exporter": "python",
   "pygments_lexer": "ipython2",
   "version": "2.7.6"
  }
 },
 "nbformat": 4,
 "nbformat_minor": 0
}