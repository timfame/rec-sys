{
 "cells": [
  {
   "cell_type": "code",
   "execution_count": 1,
   "metadata": {
    "collapsed": true
   },
   "outputs": [],
   "source": [
    "import pandas as pd\n",
    "import numpy as np\n",
    "import scipy.sparse as sp\n",
    "from math import sqrt, exp\n",
    "\n",
    "ratings = pd.read_csv('./ml-1m/ratings.dat', delimiter='::', header=None,\n",
    "                      names=['user_id', 'movie_id', 'rating', 'timestamp'],\n",
    "                      usecols=['user_id', 'movie_id', 'rating'], engine='python')\n",
    "movie_info = pd.read_csv('./ml-1m/movies.dat', delimiter='::', header=None,\n",
    "                         names=['movie_id', 'name', 'category'], engine='python')\n",
    "user_info = pd.read_csv('./ml-1m/users.dat', delimiter='::', header=None,\n",
    "                        names=['user_id', 'gender', 'age', 'occupation', 'zip_code'], engine='python')\n",
    "\n",
    "def get_movie_names(ids):\n",
    "    return [movie_info[movie_info['movie_id'] == mid]['name'].to_string() for mid in ids]\n",
    "\n",
    "get_user_history = lambda user_id: [movie_info[movie_info['movie_id'] == mid]['name'].to_string() + \"   \" + str(rat)\n",
    "                                    for mid, rat in zip(ratings[ratings['user_id'] == user_id]['movie_id'],\n",
    "                                                        ratings[ratings['user_id'] == user_id]['rating'])]\n",
    "\n",
    "imp_ratings = ratings.loc[(ratings['rating'] >= 4)]\n",
    "imp_users = imp_ratings['user_id']\n",
    "imp_movies = imp_ratings['movie_id']\n",
    "imp_user_item = sp.coo_matrix((np.ones_like(imp_users), (imp_users, imp_movies)))\n",
    "imp_user_item_csr = imp_user_item.tocsr()"
   ]
  },
  {
   "cell_type": "code",
   "execution_count": 2,
   "outputs": [],
   "source": [
    "from bisect import bisect_right\n",
    "\n",
    "class WARP:\n",
    "\n",
    "    def __init__(self, epochs=10, factors=16, regularization=0.02,\n",
    "                 learning_rate=0.005, attempt_coef=0.005, logging=False):\n",
    "        self.epochs = epochs\n",
    "        self.factors = factors\n",
    "        self.reg = regularization\n",
    "        self.lr = learning_rate\n",
    "        self.attempt_coef = attempt_coef\n",
    "        self.logging = logging\n",
    "        self.users, self.items = np.array(0), np.array(0)\n",
    "\n",
    "    def fit(self, matrix):\n",
    "        n, m = matrix.shape\n",
    "        self.users = np.random.uniform(0, 1 / sqrt(self.factors), (n, self.factors))\n",
    "        self.items = np.random.uniform(0, 1 / sqrt(self.factors), (m, self.factors))\n",
    "        for ep in range(self.epochs):\n",
    "            for u in range(1, n):\n",
    "                positives = matrix[u].nonzero()[1]\n",
    "                negs_cnt = m - 1 - len(positives)\n",
    "                for pos in positives:\n",
    "                    x_ui = self.predict(u, pos)\n",
    "                    attempt = 1\n",
    "                    # Ищем негатив, у которого будет скор выше текущего позитива\n",
    "                    # attempt - с какой попытки нашли, нужен для подсчитывания шага изменений\n",
    "                    neg = self._peek_neg(m, positives)\n",
    "                    while x_ui >= self.predict(u, neg) and attempt <= negs_cnt:\n",
    "                        neg = self._peek_neg(m, positives)\n",
    "                        attempt += 1\n",
    "                    if attempt > negs_cnt:\n",
    "                        continue\n",
    "\n",
    "                    x_uij = x_ui - self.predict(u, neg)\n",
    "                    e = exp(-x_uij) / (1 + exp(-x_uij))\n",
    "                    u_copy = self.users[u].copy()\n",
    "                    # Коэф. шага в зависимости от попытки, с которой нашли подходящий негатив\n",
    "                    step_coef = negs_cnt / attempt * self.attempt_coef * self.lr\n",
    "\n",
    "                    diff = self.items[pos] - self.items[neg]\n",
    "                    self.users[u] += step_coef * (e * diff + self.reg * self.users[u])\n",
    "\n",
    "                    diff = u_copy\n",
    "                    self.items[pos] += step_coef * (e * diff + self.reg * self.items[pos])\n",
    "\n",
    "                    diff = -u_copy\n",
    "                    self.items[neg] += step_coef * (e * diff + self.reg * self.items[neg])\n",
    "            if self.logging:\n",
    "                print(f'Epoch {ep + 1}: ', end='')\n",
    "                print(f'AUC = {self.auc(matrix)}')\n",
    "\n",
    "    @staticmethod\n",
    "    def _peek_neg(m, positives):\n",
    "        # Рандомим итем, пока попадаем в позитивы\n",
    "        neg = np.random.randint(1, m - 1)\n",
    "        while neg in positives:\n",
    "            neg = np.random.randint(1, m - 1)\n",
    "        return neg\n",
    "\n",
    "    def predict(self, i, j):\n",
    "        return self.users[i] @ self.items[j].T\n",
    "\n",
    "    def auc(self, matrix):\n",
    "        n, m = matrix.shape\n",
    "        auc = 0\n",
    "        for u in range(1, n):\n",
    "            positives = matrix[u].nonzero()[1]\n",
    "            predicts = [self.predict(u, i) for i in range(m)]\n",
    "            negative_predicts = [predicts[i] for i in range (1, m) if i not in positives]\n",
    "            user_auc = 0\n",
    "            if len(positives) == 0 or len(negative_predicts) == 0:\n",
    "                continue\n",
    "            negative_predicts.sort()\n",
    "            for pos in positives:\n",
    "                user_auc += bisect_right(negative_predicts, predicts[pos])\n",
    "                # Ниже закомменчена медленная версия, negatives - индексы негативов\n",
    "                # for neg in negatives:\n",
    "                #     x_uij = predicts[pos] - predicts[neg]\n",
    "                #     if x_uij > 0:\n",
    "                #         user_auc += 1\n",
    "            auc += user_auc / (len(positives) * len(negative_predicts))\n",
    "        return auc / (n - 1)\n",
    "\n",
    "    def similar_item_ids(self, item_id, cnt=10):\n",
    "        item_embeddings = self.items[item_id]\n",
    "        all_items = self.items[1:]\n",
    "        dists = [(np.linalg.norm(item_embeddings - all_items[i]), i + 1) for i in range(len(all_items))]\n",
    "        dists.sort()\n",
    "        return [x[1] for x in dists[1:cnt + 1]]\n",
    "\n",
    "    def recommend_ids(self, user_id, ratings, cnt=10):\n",
    "        used = [mid for _, mid in ratings[ratings['user_id'] == user_id]['movie_id'].items()]\n",
    "        predicts = [(self.predict(user_id, it), it) for it in range(1, len(self.items)) if it not in used]\n",
    "        predicts.sort()\n",
    "        predicts.reverse()\n",
    "        return [x[1] for x in predicts[:cnt]]"
   ],
   "metadata": {
    "collapsed": false,
    "pycharm": {
     "name": "#%%\n"
    }
   }
  },
  {
   "cell_type": "markdown",
   "source": [
    "`attempt_coef` - уменьшает коэффициент изменения вектора эмбеддингов.\n",
    "Необходим для большого шага, когда подходящий негатив нашли быстро, чтобы не было Overflow"
   ],
   "metadata": {
    "collapsed": false,
    "pycharm": {
     "name": "#%% md\n"
    }
   }
  },
  {
   "cell_type": "code",
   "execution_count": 3,
   "outputs": [
    {
     "name": "stdout",
     "output_type": "stream",
     "text": [
      "Epoch 1: AUC = 0.859407083266161\n",
      "Epoch 2: AUC = 0.8739833820230183\n",
      "Epoch 3: AUC = 0.895551158661725\n",
      "Epoch 4: AUC = 0.9125374696977723\n",
      "Epoch 5: AUC = 0.9259020325731951\n",
      "Epoch 6: AUC = 0.9351542787685296\n",
      "Epoch 7: AUC = 0.9418155220766771\n",
      "Epoch 8: AUC = 0.9476438984490094\n",
      "Epoch 9: AUC = 0.9515397577056277\n"
     ]
    }
   ],
   "source": [
    "model = WARP(epochs=9, factors=64, attempt_coef=0.0035, logging=True)\n",
    "model.fit(imp_user_item_csr)"
   ],
   "metadata": {
    "collapsed": false,
    "pycharm": {
     "name": "#%%\n"
    }
   }
  },
  {
   "cell_type": "markdown",
   "source": [
    "симилары для Toy Story"
   ],
   "metadata": {
    "collapsed": false
   }
  },
  {
   "cell_type": "code",
   "execution_count": 4,
   "outputs": [
    {
     "name": "stdout",
     "output_type": "stream",
     "text": [
      "movie_id                              1\n",
      "name                   Toy Story (1995)\n",
      "category    Animation|Children's|Comedy\n",
      "Name: 0, dtype: object\n"
     ]
    },
    {
     "data": {
      "text/plain": "['3045    Toy Story 2 (1999)',\n '33    Babe (1995)',\n '3090    Fantasia 2000 (1999)',\n '1020    Fox and the Hound, The (1981)',\n '1664    Mouse Hunt (1997)',\n '1526    Hercules (1997)',\n '2371    Another Day in Paradise (1998)',\n '2014    Muppet Christmas Carol, The (1992)',\n '1838    Mulan (1998)',\n \"2286    Bug's Life, A (1998)\"]"
     },
     "execution_count": 4,
     "metadata": {},
     "output_type": "execute_result"
    }
   ],
   "source": [
    "print(movie_info.loc[0])\n",
    "similar_ids = model.similar_item_ids(1)\n",
    "get_movie_names(similar_ids)"
   ],
   "metadata": {
    "collapsed": false,
    "pycharm": {
     "name": "#%%\n"
    }
   }
  },
  {
   "cell_type": "code",
   "execution_count": 5,
   "outputs": [
    {
     "data": {
      "text/plain": "['3399    Hustler, The (1961)   5',\n '1192    Star Wars: Episode VI - Return of the Jedi (1983)   3',\n '2882    Fistful of Dollars, A (1964)   4',\n '1196    Alien (1979)   4',\n '1023    Die Hard (1988)   4',\n '257    Star Wars: Episode IV - A New Hope (1977)   5',\n '1959    Saving Private Ryan (1998)   5',\n '476    Jurassic Park (1993)   4',\n '1178    Star Wars: Episode V - The Empire Strikes Back...   2',\n '1180    Raiders of the Lost Ark (1981)   5',\n '1885    Rocky (1976)   5',\n '1081    E.T. the Extra-Terrestrial (1982)   4',\n '3349    Thelma & Louise (1991)   4',\n '3633    Mad Max (1979)   4',\n '2297    King Kong (1933)   4',\n '1366    Jaws (1975)   5',\n '3458    Predator (1987)   1',\n '1183    Good, The Bad and The Ugly, The (1966)   5',\n '2623    Run Lola Run (Lola rennt) (1998)   5',\n '2878    Goldfinger (1964)   5',\n '1220    Terminator, The (1984)   5']"
     },
     "execution_count": 5,
     "metadata": {},
     "output_type": "execute_result"
    }
   ],
   "source": [
    "get_user_history(4)"
   ],
   "metadata": {
    "collapsed": false,
    "pycharm": {
     "name": "#%%\n"
    }
   }
  },
  {
   "cell_type": "markdown",
   "source": [
    "Рекомендации для юзера 4"
   ],
   "metadata": {
    "collapsed": false
   }
  },
  {
   "cell_type": "code",
   "execution_count": 6,
   "outputs": [
    {
     "data": {
      "text/plain": "['2105    Beetlejuice (1988)',\n '1120    Monty Python and the Holy Grail (1974)',\n '1182    Aliens (1986)',\n \"2459    Logan's Run (1976)\",\n '1284    Butch Cassidy and the Sundance Kid (1969)',\n '2875    Dirty Dozen, The (1967)',\n '1543    Contact (1997)',\n '537    Blade Runner (1982)',\n '2593    War of the Worlds, The (1953)',\n '901    Maltese Falcon, The (1941)',\n '1179    Princess Bride, The (1987)',\n '1206    Henry V (1989)',\n '2031    Splash (1984)',\n '2847    Total Recall (1990)',\n '1190    Apocalypse Now (1979)']"
     },
     "execution_count": 6,
     "metadata": {},
     "output_type": "execute_result"
    }
   ],
   "source": [
    "recommend_ids = model.recommend_ids(4, ratings, cnt=15)\n",
    "get_movie_names(recommend_ids)"
   ],
   "metadata": {
    "collapsed": false,
    "pycharm": {
     "name": "#%%\n"
    }
   }
  }
 ],
 "metadata": {
  "kernelspec": {
   "display_name": "Python 3",
   "language": "python",
   "name": "python3"
  },
  "language_info": {
   "codemirror_mode": {
    "name": "ipython",
    "version": 2
   },
   "file_extension": ".py",
   "mimetype": "text/x-python",
   "name": "python",
   "nbconvert_exporter": "python",
   "pygments_lexer": "ipython2",
   "version": "2.7.6"
  }
 },
 "nbformat": 4,
 "nbformat_minor": 0
}