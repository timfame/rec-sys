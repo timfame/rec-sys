{
 "cells": [
  {
   "cell_type": "code",
   "execution_count": 5,
   "metadata": {
    "collapsed": true
   },
   "outputs": [],
   "source": [
    "import pandas as pd\n",
    "import numpy as np\n",
    "import scipy.sparse as sp\n",
    "from math import sqrt, exp\n",
    "\n",
    "ratings = pd.read_csv('./ml-1m/ratings.dat', delimiter='::', header=None,\n",
    "                      names=['user_id', 'movie_id', 'rating', 'timestamp'],\n",
    "                      usecols=['user_id', 'movie_id', 'rating'], engine='python')\n",
    "movie_info = pd.read_csv('./ml-1m/movies.dat', delimiter='::', header=None,\n",
    "                         names=['movie_id', 'name', 'category'], engine='python')\n",
    "user_info = pd.read_csv('./ml-1m/users.dat', delimiter='::', header=None,\n",
    "                        names=['user_id', 'gender', 'age', 'occupation', 'zip_code'], engine='python')\n",
    "\n",
    "def get_movie_names(ids):\n",
    "    return [movie_info[movie_info['movie_id'] == mid]['name'].to_string() for mid in ids]\n",
    "\n",
    "get_user_history = lambda user_id: [movie_info[movie_info['movie_id'] == mid]['name'].to_string() + \"   \" + str(rat)\n",
    "                                    for mid, rat in zip(ratings[ratings['user_id'] == user_id]['movie_id'],\n",
    "                                                        ratings[ratings['user_id'] == user_id]['rating'])]\n",
    "\n",
    "imp_ratings = ratings.loc[(ratings['rating'] >= 4)]\n",
    "imp_users = imp_ratings['user_id']\n",
    "imp_movies = imp_ratings['movie_id']\n",
    "imp_user_item = sp.coo_matrix((np.ones_like(imp_users), (imp_users, imp_movies)))\n",
    "imp_user_item_csr = imp_user_item.tocsr()"
   ]
  },
  {
   "cell_type": "code",
   "execution_count": 39,
   "outputs": [],
   "source": [
    "from bisect import bisect_right\n",
    "\n",
    "class WARP:\n",
    "\n",
    "    def __init__(self, epochs=10, factors=16, regularization=0.02,\n",
    "                 learning_rate=0.005, attempt_coef=0.005, logging=False):\n",
    "        self.epochs = epochs\n",
    "        self.factors = factors\n",
    "        self.reg = regularization\n",
    "        self.lr = learning_rate\n",
    "        self.attempt_coef = attempt_coef\n",
    "        self.logging = logging\n",
    "        self.users, self.items = np.array(0), np.array(0)\n",
    "\n",
    "    def fit(self, matrix):\n",
    "        n, m = matrix.shape\n",
    "        self.users = np.random.uniform(0, 1 / sqrt(self.factors), (n, self.factors))\n",
    "        self.items = np.random.uniform(0, 1 / sqrt(self.factors), (m, self.factors))\n",
    "        for ep in range(self.epochs):\n",
    "            for u in range(1, n):\n",
    "                positives = matrix[u].nonzero()[1]\n",
    "                negs_cnt = m - 1 - len(positives)\n",
    "                for pos in positives:\n",
    "                    x_ui = self.predict(u, pos)\n",
    "                    attempt = 1\n",
    "                    neg = self._peek_neg(m, positives)\n",
    "                    while x_ui >= self.predict(u, neg) and attempt <= negs_cnt:\n",
    "                        neg = self._peek_neg(m, positives)\n",
    "                        attempt += 1\n",
    "                    if attempt > negs_cnt:\n",
    "                        continue\n",
    "\n",
    "                    x_uij = x_ui - self.predict(u, neg)\n",
    "                    e = exp(-x_uij) / (1 + exp(-x_uij))\n",
    "                    step_coef = negs_cnt / attempt * self.attempt_coef * self.lr\n",
    "\n",
    "                    diff = self.items[pos] - self.items[neg]\n",
    "                    self.users[u] += step_coef * (e * diff + self.reg * self.users[u])\n",
    "\n",
    "                    diff = self.users[u]\n",
    "                    self.items[pos] += step_coef * (e * diff + self.reg * self.items[pos])\n",
    "\n",
    "                    diff = -self.users[u]\n",
    "                    self.items[neg] += step_coef * (e * diff + self.reg * self.items[neg])\n",
    "            if self.logging:\n",
    "                print(f'Epoch {ep + 1}: ', end='')\n",
    "                print(f'AUC = {self.auc(matrix)}')\n",
    "\n",
    "    @staticmethod\n",
    "    def _peek_neg(m, positives):\n",
    "        neg = np.random.randint(1, m - 1)\n",
    "        while neg in positives:\n",
    "            neg = np.random.randint(1, m - 1)\n",
    "        return neg\n",
    "\n",
    "    def predict(self, i, j):\n",
    "        return self.users[i] @ self.items[j].T\n",
    "\n",
    "    def auc(self, matrix):\n",
    "        n, m = matrix.shape\n",
    "        auc = 0\n",
    "        for u in range(1, n):\n",
    "            positives = matrix[u].nonzero()[1]\n",
    "            predicts = [self.predict(u, i) for i in range(m)]\n",
    "            negative_predicts = [predicts[i] for i in range (1, m) if i not in positives]\n",
    "            user_auc = 0\n",
    "            if len(positives) == 0 or len(negative_predicts) == 0:\n",
    "                continue\n",
    "            negative_predicts.sort()\n",
    "            for pos in positives:\n",
    "                user_auc += bisect_right(negative_predicts, predicts[pos])\n",
    "                # Ниже закомменчена медленная версия, negatives - индексы негативов\n",
    "                # for neg in negatives:\n",
    "                #     x_uij = predicts[pos] - predicts[neg]\n",
    "                #     if x_uij > 0:\n",
    "                #         user_auc += 1\n",
    "            auc += user_auc / (len(positives) * len(negative_predicts))\n",
    "        return auc / (n - 1)\n",
    "\n",
    "    def similar_item_ids(self, item_id, cnt=10):\n",
    "        item_embeddings = self.items[item_id]\n",
    "        all_items = self.items[1:]\n",
    "        dists = [(np.linalg.norm(item_embeddings - all_items[i]), i + 1) for i in range(len(all_items))]\n",
    "        dists.sort()\n",
    "        return [x[1] for x in dists[1:cnt + 1]]\n",
    "\n",
    "    def recommend_ids(self, user_id, ratings, cnt=10):\n",
    "        used = [mid for _, mid in ratings[ratings['user_id'] == user_id]['movie_id'].items()]\n",
    "        predicts = [(self.predict(user_id, it), it) for it in range(1, len(self.items)) if it not in used]\n",
    "        predicts.sort()\n",
    "        predicts.reverse()\n",
    "        return [x[1] for x in predicts[:cnt]]"
   ],
   "metadata": {
    "collapsed": false,
    "pycharm": {
     "name": "#%%\n"
    }
   }
  },
  {
   "cell_type": "code",
   "execution_count": 40,
   "outputs": [
    {
     "name": "stdout",
     "output_type": "stream",
     "text": [
      "Epoch 1: AUC = 0.8674566607101188\n",
      "Epoch 2: AUC = 0.8986051926893878\n",
      "Epoch 3: AUC = 0.9225144770822478\n",
      "Epoch 4: AUC = 0.9339242609030057\n",
      "Epoch 5: AUC = 0.9336538578586235\n"
     ]
    }
   ],
   "source": [
    "model = WARP(epochs=10, factors=64, logging=True)\n",
    "model.fit(imp_user_item_csr)"
   ],
   "metadata": {
    "collapsed": false,
    "pycharm": {
     "name": "#%%\n"
    }
   }
  },
  {
   "cell_type": "markdown",
   "source": [
    "симилары для Toy Story"
   ],
   "metadata": {
    "collapsed": false
   }
  },
  {
   "cell_type": "code",
   "execution_count": 41,
   "outputs": [
    {
     "name": "stdout",
     "output_type": "stream",
     "text": [
      "movie_id                              1\n",
      "name                   Toy Story (1995)\n",
      "category    Animation|Children's|Comedy\n",
      "Name: 0, dtype: object\n"
     ]
    },
    {
     "data": {
      "text/plain": "['3090    Fantasia 2000 (1999)',\n \"333    What's Eating Gilbert Grape (1993)\",\n '3632    Alien Nation (1988)',\n '269    Madness of King George, The (1994)',\n '3144    Batman: Mask of the Phantasm (1993)',\n '647    Dragonheart (1996)',\n '826    Matilda (1996)',\n '3360    Creature Comforts (1990)',\n '156    Casper (1995)',\n '3648    Gone in 60 Seconds (2000)']"
     },
     "execution_count": 41,
     "metadata": {},
     "output_type": "execute_result"
    }
   ],
   "source": [
    "print(movie_info.loc[0])\n",
    "similar_ids = model.similar_item_ids(1)\n",
    "get_movie_names(similar_ids)"
   ],
   "metadata": {
    "collapsed": false,
    "pycharm": {
     "name": "#%%\n"
    }
   }
  },
  {
   "cell_type": "code",
   "execution_count": 42,
   "outputs": [
    {
     "data": {
      "text/plain": "['3399    Hustler, The (1961)   5',\n '1192    Star Wars: Episode VI - Return of the Jedi (1983)   3',\n '2882    Fistful of Dollars, A (1964)   4',\n '1196    Alien (1979)   4',\n '1023    Die Hard (1988)   4',\n '257    Star Wars: Episode IV - A New Hope (1977)   5',\n '1959    Saving Private Ryan (1998)   5',\n '476    Jurassic Park (1993)   4',\n '1178    Star Wars: Episode V - The Empire Strikes Back...   2',\n '1180    Raiders of the Lost Ark (1981)   5',\n '1885    Rocky (1976)   5',\n '1081    E.T. the Extra-Terrestrial (1982)   4',\n '3349    Thelma & Louise (1991)   4',\n '3633    Mad Max (1979)   4',\n '2297    King Kong (1933)   4',\n '1366    Jaws (1975)   5',\n '3458    Predator (1987)   1',\n '1183    Good, The Bad and The Ugly, The (1966)   5',\n '2623    Run Lola Run (Lola rennt) (1998)   5',\n '2878    Goldfinger (1964)   5',\n '1220    Terminator, The (1984)   5']"
     },
     "execution_count": 42,
     "metadata": {},
     "output_type": "execute_result"
    }
   ],
   "source": [
    "get_user_history(4)"
   ],
   "metadata": {
    "collapsed": false,
    "pycharm": {
     "name": "#%%\n"
    }
   }
  },
  {
   "cell_type": "markdown",
   "source": [
    "Рекомендации для юзера 4"
   ],
   "metadata": {
    "collapsed": false
   }
  },
  {
   "cell_type": "code",
   "execution_count": 43,
   "outputs": [
    {
     "data": {
      "text/plain": "[\"1176    One Flew Over the Cuckoo's Nest (1975)\",\n '912    2001: A Space Odyssey (1968)',\n '3509    Gladiator (2000)',\n '1239    Stand by Me (1986)',\n \"2286    Bug's Life, A (1998)\",\n '2327    Shakespeare in Love (1998)',\n '3078    Green Mile, The (1999)',\n '1539    Men in Black (1997)',\n '2722    Airplane! (1980)',\n '2693    Sixth Sense, The (1999)',\n '2647    Ghostbusters (1984)',\n '2789    American Beauty (1999)',\n '2918    Who Framed Roger Rabbit? (1988)',\n '1203    Godfather: Part II, The (1974)',\n '1179    Princess Bride, The (1987)']"
     },
     "execution_count": 43,
     "metadata": {},
     "output_type": "execute_result"
    }
   ],
   "source": [
    "recommend_ids = model.recommend_ids(4, ratings, cnt=15)\n",
    "get_movie_names(recommend_ids)"
   ],
   "metadata": {
    "collapsed": false,
    "pycharm": {
     "name": "#%%\n"
    }
   }
  }
 ],
 "metadata": {
  "kernelspec": {
   "display_name": "Python 3",
   "language": "python",
   "name": "python3"
  },
  "language_info": {
   "codemirror_mode": {
    "name": "ipython",
    "version": 2
   },
   "file_extension": ".py",
   "mimetype": "text/x-python",
   "name": "python",
   "nbconvert_exporter": "python",
   "pygments_lexer": "ipython2",
   "version": "2.7.6"
  }
 },
 "nbformat": 4,
 "nbformat_minor": 0
}