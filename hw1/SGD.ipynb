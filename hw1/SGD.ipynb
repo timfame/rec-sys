{
 "cells": [
  {
   "cell_type": "code",
   "execution_count": 127,
   "metadata": {
    "collapsed": true
   },
   "outputs": [],
   "source": [
    "import pandas as pd\n",
    "import numpy as np\n",
    "import scipy.sparse as sp"
   ]
  },
  {
   "cell_type": "code",
   "execution_count": 128,
   "outputs": [],
   "source": [
    "ratings = pd.read_csv('./ml-1m/ratings.dat', delimiter='::', header=None,\n",
    "                      names=['user_id', 'movie_id', 'rating', 'timestamp'],\n",
    "                      usecols=['user_id', 'movie_id', 'rating'], engine='python')\n",
    "movie_info = pd.read_csv('./ml-1m/movies.dat', delimiter='::', header=None,\n",
    "                         names=['movie_id', 'name', 'category'], engine='python')\n",
    "user_info = pd.read_csv('./ml-1m/users.dat', delimiter='::', header=None,\n",
    "                        names=['user_id', 'gender', 'age', 'occupation', 'zip_code'], engine='python')"
   ],
   "metadata": {
    "collapsed": false,
    "pycharm": {
     "name": "#%%\n"
    }
   }
  },
  {
   "cell_type": "code",
   "execution_count": 129,
   "outputs": [
    {
     "data": {
      "text/plain": "   user_id  movie_id  rating\n0        1      1193       5\n1        1       661       3\n2        1       914       3\n3        1      3408       4\n4        1      2355       5",
      "text/html": "<div>\n<style scoped>\n    .dataframe tbody tr th:only-of-type {\n        vertical-align: middle;\n    }\n\n    .dataframe tbody tr th {\n        vertical-align: top;\n    }\n\n    .dataframe thead th {\n        text-align: right;\n    }\n</style>\n<table border=\"1\" class=\"dataframe\">\n  <thead>\n    <tr style=\"text-align: right;\">\n      <th></th>\n      <th>user_id</th>\n      <th>movie_id</th>\n      <th>rating</th>\n    </tr>\n  </thead>\n  <tbody>\n    <tr>\n      <th>0</th>\n      <td>1</td>\n      <td>1193</td>\n      <td>5</td>\n    </tr>\n    <tr>\n      <th>1</th>\n      <td>1</td>\n      <td>661</td>\n      <td>3</td>\n    </tr>\n    <tr>\n      <th>2</th>\n      <td>1</td>\n      <td>914</td>\n      <td>3</td>\n    </tr>\n    <tr>\n      <th>3</th>\n      <td>1</td>\n      <td>3408</td>\n      <td>4</td>\n    </tr>\n    <tr>\n      <th>4</th>\n      <td>1</td>\n      <td>2355</td>\n      <td>5</td>\n    </tr>\n  </tbody>\n</table>\n</div>"
     },
     "execution_count": 129,
     "metadata": {},
     "output_type": "execute_result"
    }
   ],
   "source": [
    "ratings.head(5)"
   ],
   "metadata": {
    "collapsed": false,
    "pycharm": {
     "name": "#%%\n"
    }
   }
  },
  {
   "cell_type": "code",
   "execution_count": 130,
   "outputs": [],
   "source": [
    "from math import sqrt\n",
    "\n",
    "class SGD:\n",
    "\n",
    "    def __init__(self, factors=64, epochs=10,\n",
    "                 regularization=0.02, learning_rate=0.005,\n",
    "                 logging=False):\n",
    "        self.epochs = epochs\n",
    "        self.factors = factors\n",
    "        self.regularization = regularization\n",
    "        self.learning_rate = learning_rate\n",
    "        self.users, self.bu = np.empty(0), np.empty(0)\n",
    "        self.items, self.bi = np.empty(0), np.empty(0)\n",
    "        self.mu = 0\n",
    "        self.logging = logging\n",
    "        self.rmse = None\n",
    "\n",
    "    def fit(self, matrix):\n",
    "        n, m = matrix.shape\n",
    "        self.users = np.random.uniform(0, 1 / sqrt(self.factors), (n, self.factors))\n",
    "        self.items = np.random.uniform(0, 1 / sqrt(self.factors), (m, self.factors))\n",
    "        self.bu = np.zeros(n)\n",
    "        self.bi = np.zeros(m)\n",
    "        self.mu = matrix.data.mean()\n",
    "\n",
    "        indices = matrix.nonzero()\n",
    "        order = [o for o in range(len(indices[0]))]\n",
    "\n",
    "        for ep in range(self.epochs):\n",
    "            np.random.shuffle(order)\n",
    "            errors = []\n",
    "            for o in order:\n",
    "                i, j = indices[0][o], indices[1][o]\n",
    "                error = self.predict(i, j) - matrix[i, j]\n",
    "                self.bu[i] -= (error + self.regularization * self.bu[i]) * self.learning_rate\n",
    "                self.bi[j] -= (error + self.regularization * self.bi[j]) * self.learning_rate\n",
    "                self.users[i] -= (error * self.items[j] + self.regularization * self.users[i]) * self.learning_rate\n",
    "                self.items[j] -= (error * self.users[i] + self.regularization * self.items[j]) * self.learning_rate\n",
    "                errors.append(self.predict(i, j) - matrix[i, j])\n",
    "            errors = np.array(errors)\n",
    "            loss = np.square(errors).mean()\n",
    "            self.rmse = sqrt(loss)\n",
    "            if self.logging:\n",
    "                print(f'Epoch {ep + 1}: RMSE = {self.rmse}')\n",
    "\n",
    "    def predict(self, i, j):\n",
    "        return self.users[i] @ self.items[j] + self.bu[i] + self.bi[j] + self.mu\n",
    "\n",
    "    def similar_item_ids(self, item_id, cnt=10):\n",
    "        item_embeddings = self.items[item_id]\n",
    "        all_items = self.items[1:]\n",
    "        dists = [(np.linalg.norm(item_embeddings - all_items[i]), i + 1) for i in range(len(all_items))]\n",
    "        dists.sort()\n",
    "        return [x[1] for x in dists[1:cnt + 1]]\n",
    "\n",
    "    def recommend_ids(self, user_id, matrix, cnt=10):\n",
    "        used = matrix.indices[matrix.indptr[user_id]:matrix.indptr[user_id + 1]]\n",
    "        predicts = [(self.predict(user_id, it), it) for it in range(1, len(self.items)) if it not in used]\n",
    "        predicts.sort()\n",
    "        predicts.reverse()\n",
    "        return [x[1] for x in predicts[:cnt]]"
   ],
   "metadata": {
    "collapsed": false,
    "pycharm": {
     "name": "#%%\n"
    }
   }
  },
  {
   "cell_type": "code",
   "execution_count": 131,
   "outputs": [],
   "source": [
    "exp_user_item = sp.coo_matrix((ratings['rating'], (ratings['user_id'], ratings['movie_id'])))\n",
    "exp_user_item_csr = exp_user_item.tocsr()"
   ],
   "metadata": {
    "collapsed": false,
    "pycharm": {
     "name": "#%%\n"
    }
   }
  },
  {
   "cell_type": "code",
   "execution_count": 132,
   "outputs": [
    {
     "name": "stdout",
     "output_type": "stream",
     "text": [
      "Epoch 1: RMSE = 0.9641046836931749\n",
      "Epoch 2: RMSE = 0.9083677212613752\n",
      "Epoch 3: RMSE = 0.897212343314062\n",
      "Epoch 4: RMSE = 0.8911538469935903\n",
      "Epoch 5: RMSE = 0.8862186122079216\n",
      "Epoch 6: RMSE = 0.8811921437816636\n",
      "Epoch 7: RMSE = 0.8756536555582612\n",
      "Epoch 8: RMSE = 0.869528416123844\n",
      "Epoch 9: RMSE = 0.8627494720989339\n",
      "Epoch 10: RMSE = 0.8552521220514373\n",
      "Epoch 11: RMSE = 0.8469192922153579\n",
      "Epoch 12: RMSE = 0.8378873362218319\n",
      "Epoch 13: RMSE = 0.8282737422909228\n",
      "Epoch 14: RMSE = 0.8181771843728675\n",
      "Epoch 15: RMSE = 0.8077019594571974\n",
      "Epoch 16: RMSE = 0.79695773359207\n",
      "Epoch 17: RMSE = 0.7861468833531436\n",
      "Epoch 18: RMSE = 0.7752618831304625\n",
      "Epoch 19: RMSE = 0.7644246895809227\n",
      "Epoch 20: RMSE = 0.7536787042336003\n"
     ]
    }
   ],
   "source": [
    "model = SGD(epochs=20, logging=True)\n",
    "model.fit(exp_user_item_csr)"
   ],
   "metadata": {
    "collapsed": false,
    "pycharm": {
     "name": "#%%\n"
    }
   }
  },
  {
   "cell_type": "code",
   "execution_count": 133,
   "outputs": [],
   "source": [
    "def get_movie_names(ids):\n",
    "    return [movie_info[movie_info['movie_id'] == mid]['name'].to_string() for mid in ids]"
   ],
   "metadata": {
    "collapsed": false,
    "pycharm": {
     "name": "#%%\n"
    }
   }
  },
  {
   "cell_type": "markdown",
   "source": [
    "Найдем симилары для Toy Story"
   ],
   "metadata": {
    "collapsed": false,
    "pycharm": {
     "name": "#%% md\n"
    }
   }
  },
  {
   "cell_type": "code",
   "execution_count": 134,
   "outputs": [
    {
     "name": "stdout",
     "output_type": "stream",
     "text": [
      "movie_id                              1\n",
      "name                   Toy Story (1995)\n",
      "category    Animation|Children's|Comedy\n",
      "Name: 0, dtype: object\n"
     ]
    },
    {
     "data": {
      "text/plain": "['3045    Toy Story 2 (1999)',\n \"2286    Bug's Life, A (1998)\",\n '584    Aladdin (1992)',\n '1838    Mulan (1998)',\n '2618    Tarzan (1999)',\n '1526    Hercules (1997)',\n '3090    Fantasia 2000 (1999)',\n '1664    Mouse Hunt (1997)',\n '2728    Big (1988)',\n '1029    That Thing You Do! (1996)']"
     },
     "execution_count": 134,
     "metadata": {},
     "output_type": "execute_result"
    }
   ],
   "source": [
    "print(movie_info.loc[0])\n",
    "similar_ids = model.similar_item_ids(1)\n",
    "get_movie_names(similar_ids)"
   ],
   "metadata": {
    "collapsed": false,
    "pycharm": {
     "name": "#%%\n"
    }
   }
  },
  {
   "cell_type": "markdown",
   "source": [
    "Рейтинги фильмов от юзера 4"
   ],
   "metadata": {
    "collapsed": false,
    "pycharm": {
     "name": "#%% md\n"
    }
   }
  },
  {
   "cell_type": "code",
   "execution_count": 135,
   "outputs": [
    {
     "data": {
      "text/plain": "['3399    Hustler, The (1961)   5',\n '1192    Star Wars: Episode VI - Return of the Jedi (1983)   3',\n '2882    Fistful of Dollars, A (1964)   4',\n '1196    Alien (1979)   4',\n '1023    Die Hard (1988)   4',\n '257    Star Wars: Episode IV - A New Hope (1977)   5',\n '1959    Saving Private Ryan (1998)   5',\n '476    Jurassic Park (1993)   4',\n '1178    Star Wars: Episode V - The Empire Strikes Back...   2',\n '1180    Raiders of the Lost Ark (1981)   5',\n '1885    Rocky (1976)   5',\n '1081    E.T. the Extra-Terrestrial (1982)   4',\n '3349    Thelma & Louise (1991)   4',\n '3633    Mad Max (1979)   4',\n '2297    King Kong (1933)   4',\n '1366    Jaws (1975)   5',\n '3458    Predator (1987)   1',\n '1183    Good, The Bad and The Ugly, The (1966)   5',\n '2623    Run Lola Run (Lola rennt) (1998)   5',\n '2878    Goldfinger (1964)   5',\n '1220    Terminator, The (1984)   5']"
     },
     "execution_count": 135,
     "metadata": {},
     "output_type": "execute_result"
    }
   ],
   "source": [
    "get_user_history = lambda user_id: [movie_info[movie_info['movie_id'] == mid]['name'].to_string() + \"   \" + str(rat)\n",
    "                                    for mid, rat in zip(ratings[ratings['user_id'] == user_id]['movie_id'],\n",
    "                                                        ratings[ratings['user_id'] == user_id]['rating'])]\n",
    "get_user_history(4)"
   ],
   "metadata": {
    "collapsed": false,
    "pycharm": {
     "name": "#%%\n"
    }
   }
  },
  {
   "cell_type": "markdown",
   "source": [
    "Получим рекомендации для юзера 4"
   ],
   "metadata": {
    "collapsed": false,
    "pycharm": {
     "name": "#%% md\n"
    }
   }
  },
  {
   "cell_type": "code",
   "execution_count": 136,
   "outputs": [
    {
     "data": {
      "text/plain": "['2836    Sanjuro (1962)',\n '1950    Seven Samurai (The Magnificent Seven) (Shichin...',\n '900    Casablanca (1942)',\n '911    Citizen Kane (1941)',\n '1189    To Kill a Mockingbird (1962)',\n '2953    General, The (1927)',\n '3269    For All Mankind (1989)',\n '740    Dr. Strangelove or: How I Learned to Stop Worr...',\n '1162    Paths of Glory (1957)',\n '3238    City Lights (1931)']"
     },
     "execution_count": 136,
     "metadata": {},
     "output_type": "execute_result"
    }
   ],
   "source": [
    "recommend_ids = model.recommend_ids(4, exp_user_item_csr)\n",
    "get_movie_names(recommend_ids)"
   ],
   "metadata": {
    "collapsed": false,
    "pycharm": {
     "name": "#%%\n"
    }
   }
  }
 ],
 "metadata": {
  "kernelspec": {
   "display_name": "Python 3",
   "language": "python",
   "name": "python3"
  },
  "language_info": {
   "codemirror_mode": {
    "name": "ipython",
    "version": 2
   },
   "file_extension": ".py",
   "mimetype": "text/x-python",
   "name": "python",
   "nbconvert_exporter": "python",
   "pygments_lexer": "ipython2",
   "version": "2.7.6"
  }
 },
 "nbformat": 4,
 "nbformat_minor": 0
}